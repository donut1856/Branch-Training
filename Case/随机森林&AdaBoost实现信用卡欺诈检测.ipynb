{
 "cells": [
  {
   "cell_type": "code",
   "execution_count": 1,
   "metadata": {},
   "outputs": [],
   "source": [
    "import numpy as np\n",
    "import pandas as pd\n",
    "import matplotlib.pyplot as plt\n",
    "import seaborn as sn\n",
    "from sklearn.preprocessing import LabelEncoder, StandardScaler, RobustScaler\n",
    "from imblearn.over_sampling import SMOTE\n",
    "from sklearn.model_selection import train_test_split, cross_val_score\n",
    "from sklearn.ensemble import RandomForestClassifier\n",
    "from sklearn.ensemble import AdaBoostClassifier\n",
    "from sklearn.tree import DecisionTreeClassifier\n",
    "import warnings\n",
    "warnings.filterwarnings('ignore')\n",
    "\n",
    "%matplotlib inline"
   ]
  },
  {
   "cell_type": "code",
   "execution_count": 2,
   "metadata": {},
   "outputs": [],
   "source": [
    "cc = pd.read_csv(r\"/Users/kevin/Downloads/creditcard.csv\")\n",
    "\n",
    "pd.set_option('display.max_rows', 1000,'display.max_columns', 1000,\"display.max_colwidth\", None,'display.width',None)"
   ]
  },
  {
   "cell_type": "code",
   "execution_count": 3,
   "metadata": {},
   "outputs": [
    {
     "data": {
      "text/plain": [
       "(284807, 31)"
      ]
     },
     "execution_count": 3,
     "metadata": {},
     "output_type": "execute_result"
    }
   ],
   "source": [
    "cc.shape"
   ]
  },
  {
   "cell_type": "code",
   "execution_count": 4,
   "metadata": {},
   "outputs": [
    {
     "data": {
      "text/html": [
       "<div>\n",
       "<style scoped>\n",
       "    .dataframe tbody tr th:only-of-type {\n",
       "        vertical-align: middle;\n",
       "    }\n",
       "\n",
       "    .dataframe tbody tr th {\n",
       "        vertical-align: top;\n",
       "    }\n",
       "\n",
       "    .dataframe thead th {\n",
       "        text-align: right;\n",
       "    }\n",
       "</style>\n",
       "<table border=\"1\" class=\"dataframe\">\n",
       "  <thead>\n",
       "    <tr style=\"text-align: right;\">\n",
       "      <th></th>\n",
       "      <th>Time</th>\n",
       "      <th>V1</th>\n",
       "      <th>V2</th>\n",
       "      <th>V3</th>\n",
       "      <th>V4</th>\n",
       "      <th>V5</th>\n",
       "      <th>V6</th>\n",
       "      <th>V7</th>\n",
       "      <th>V8</th>\n",
       "      <th>V9</th>\n",
       "      <th>V10</th>\n",
       "      <th>V11</th>\n",
       "      <th>V12</th>\n",
       "      <th>V13</th>\n",
       "      <th>V14</th>\n",
       "      <th>V15</th>\n",
       "      <th>V16</th>\n",
       "      <th>V17</th>\n",
       "      <th>V18</th>\n",
       "      <th>V19</th>\n",
       "      <th>V20</th>\n",
       "      <th>V21</th>\n",
       "      <th>V22</th>\n",
       "      <th>V23</th>\n",
       "      <th>V24</th>\n",
       "      <th>V25</th>\n",
       "      <th>V26</th>\n",
       "      <th>V27</th>\n",
       "      <th>V28</th>\n",
       "      <th>Amount</th>\n",
       "      <th>Class</th>\n",
       "    </tr>\n",
       "  </thead>\n",
       "  <tbody>\n",
       "    <tr>\n",
       "      <th>0</th>\n",
       "      <td>0.0</td>\n",
       "      <td>-1.359807</td>\n",
       "      <td>-0.072781</td>\n",
       "      <td>2.536347</td>\n",
       "      <td>1.378155</td>\n",
       "      <td>-0.338321</td>\n",
       "      <td>0.462388</td>\n",
       "      <td>0.239599</td>\n",
       "      <td>0.098698</td>\n",
       "      <td>0.363787</td>\n",
       "      <td>0.090794</td>\n",
       "      <td>-0.551600</td>\n",
       "      <td>-0.617801</td>\n",
       "      <td>-0.991390</td>\n",
       "      <td>-0.311169</td>\n",
       "      <td>1.468177</td>\n",
       "      <td>-0.470401</td>\n",
       "      <td>0.207971</td>\n",
       "      <td>0.025791</td>\n",
       "      <td>0.403993</td>\n",
       "      <td>0.251412</td>\n",
       "      <td>-0.018307</td>\n",
       "      <td>0.277838</td>\n",
       "      <td>-0.110474</td>\n",
       "      <td>0.066928</td>\n",
       "      <td>0.128539</td>\n",
       "      <td>-0.189115</td>\n",
       "      <td>0.133558</td>\n",
       "      <td>-0.021053</td>\n",
       "      <td>149.62</td>\n",
       "      <td>0</td>\n",
       "    </tr>\n",
       "    <tr>\n",
       "      <th>1</th>\n",
       "      <td>0.0</td>\n",
       "      <td>1.191857</td>\n",
       "      <td>0.266151</td>\n",
       "      <td>0.166480</td>\n",
       "      <td>0.448154</td>\n",
       "      <td>0.060018</td>\n",
       "      <td>-0.082361</td>\n",
       "      <td>-0.078803</td>\n",
       "      <td>0.085102</td>\n",
       "      <td>-0.255425</td>\n",
       "      <td>-0.166974</td>\n",
       "      <td>1.612727</td>\n",
       "      <td>1.065235</td>\n",
       "      <td>0.489095</td>\n",
       "      <td>-0.143772</td>\n",
       "      <td>0.635558</td>\n",
       "      <td>0.463917</td>\n",
       "      <td>-0.114805</td>\n",
       "      <td>-0.183361</td>\n",
       "      <td>-0.145783</td>\n",
       "      <td>-0.069083</td>\n",
       "      <td>-0.225775</td>\n",
       "      <td>-0.638672</td>\n",
       "      <td>0.101288</td>\n",
       "      <td>-0.339846</td>\n",
       "      <td>0.167170</td>\n",
       "      <td>0.125895</td>\n",
       "      <td>-0.008983</td>\n",
       "      <td>0.014724</td>\n",
       "      <td>2.69</td>\n",
       "      <td>0</td>\n",
       "    </tr>\n",
       "    <tr>\n",
       "      <th>2</th>\n",
       "      <td>1.0</td>\n",
       "      <td>-1.358354</td>\n",
       "      <td>-1.340163</td>\n",
       "      <td>1.773209</td>\n",
       "      <td>0.379780</td>\n",
       "      <td>-0.503198</td>\n",
       "      <td>1.800499</td>\n",
       "      <td>0.791461</td>\n",
       "      <td>0.247676</td>\n",
       "      <td>-1.514654</td>\n",
       "      <td>0.207643</td>\n",
       "      <td>0.624501</td>\n",
       "      <td>0.066084</td>\n",
       "      <td>0.717293</td>\n",
       "      <td>-0.165946</td>\n",
       "      <td>2.345865</td>\n",
       "      <td>-2.890083</td>\n",
       "      <td>1.109969</td>\n",
       "      <td>-0.121359</td>\n",
       "      <td>-2.261857</td>\n",
       "      <td>0.524980</td>\n",
       "      <td>0.247998</td>\n",
       "      <td>0.771679</td>\n",
       "      <td>0.909412</td>\n",
       "      <td>-0.689281</td>\n",
       "      <td>-0.327642</td>\n",
       "      <td>-0.139097</td>\n",
       "      <td>-0.055353</td>\n",
       "      <td>-0.059752</td>\n",
       "      <td>378.66</td>\n",
       "      <td>0</td>\n",
       "    </tr>\n",
       "    <tr>\n",
       "      <th>3</th>\n",
       "      <td>1.0</td>\n",
       "      <td>-0.966272</td>\n",
       "      <td>-0.185226</td>\n",
       "      <td>1.792993</td>\n",
       "      <td>-0.863291</td>\n",
       "      <td>-0.010309</td>\n",
       "      <td>1.247203</td>\n",
       "      <td>0.237609</td>\n",
       "      <td>0.377436</td>\n",
       "      <td>-1.387024</td>\n",
       "      <td>-0.054952</td>\n",
       "      <td>-0.226487</td>\n",
       "      <td>0.178228</td>\n",
       "      <td>0.507757</td>\n",
       "      <td>-0.287924</td>\n",
       "      <td>-0.631418</td>\n",
       "      <td>-1.059647</td>\n",
       "      <td>-0.684093</td>\n",
       "      <td>1.965775</td>\n",
       "      <td>-1.232622</td>\n",
       "      <td>-0.208038</td>\n",
       "      <td>-0.108300</td>\n",
       "      <td>0.005274</td>\n",
       "      <td>-0.190321</td>\n",
       "      <td>-1.175575</td>\n",
       "      <td>0.647376</td>\n",
       "      <td>-0.221929</td>\n",
       "      <td>0.062723</td>\n",
       "      <td>0.061458</td>\n",
       "      <td>123.50</td>\n",
       "      <td>0</td>\n",
       "    </tr>\n",
       "    <tr>\n",
       "      <th>4</th>\n",
       "      <td>2.0</td>\n",
       "      <td>-1.158233</td>\n",
       "      <td>0.877737</td>\n",
       "      <td>1.548718</td>\n",
       "      <td>0.403034</td>\n",
       "      <td>-0.407193</td>\n",
       "      <td>0.095921</td>\n",
       "      <td>0.592941</td>\n",
       "      <td>-0.270533</td>\n",
       "      <td>0.817739</td>\n",
       "      <td>0.753074</td>\n",
       "      <td>-0.822843</td>\n",
       "      <td>0.538196</td>\n",
       "      <td>1.345852</td>\n",
       "      <td>-1.119670</td>\n",
       "      <td>0.175121</td>\n",
       "      <td>-0.451449</td>\n",
       "      <td>-0.237033</td>\n",
       "      <td>-0.038195</td>\n",
       "      <td>0.803487</td>\n",
       "      <td>0.408542</td>\n",
       "      <td>-0.009431</td>\n",
       "      <td>0.798278</td>\n",
       "      <td>-0.137458</td>\n",
       "      <td>0.141267</td>\n",
       "      <td>-0.206010</td>\n",
       "      <td>0.502292</td>\n",
       "      <td>0.219422</td>\n",
       "      <td>0.215153</td>\n",
       "      <td>69.99</td>\n",
       "      <td>0</td>\n",
       "    </tr>\n",
       "  </tbody>\n",
       "</table>\n",
       "</div>"
      ],
      "text/plain": [
       "   Time        V1        V2        V3        V4        V5        V6        V7  \\\n",
       "0   0.0 -1.359807 -0.072781  2.536347  1.378155 -0.338321  0.462388  0.239599   \n",
       "1   0.0  1.191857  0.266151  0.166480  0.448154  0.060018 -0.082361 -0.078803   \n",
       "2   1.0 -1.358354 -1.340163  1.773209  0.379780 -0.503198  1.800499  0.791461   \n",
       "3   1.0 -0.966272 -0.185226  1.792993 -0.863291 -0.010309  1.247203  0.237609   \n",
       "4   2.0 -1.158233  0.877737  1.548718  0.403034 -0.407193  0.095921  0.592941   \n",
       "\n",
       "         V8        V9       V10       V11       V12       V13       V14  \\\n",
       "0  0.098698  0.363787  0.090794 -0.551600 -0.617801 -0.991390 -0.311169   \n",
       "1  0.085102 -0.255425 -0.166974  1.612727  1.065235  0.489095 -0.143772   \n",
       "2  0.247676 -1.514654  0.207643  0.624501  0.066084  0.717293 -0.165946   \n",
       "3  0.377436 -1.387024 -0.054952 -0.226487  0.178228  0.507757 -0.287924   \n",
       "4 -0.270533  0.817739  0.753074 -0.822843  0.538196  1.345852 -1.119670   \n",
       "\n",
       "        V15       V16       V17       V18       V19       V20       V21  \\\n",
       "0  1.468177 -0.470401  0.207971  0.025791  0.403993  0.251412 -0.018307   \n",
       "1  0.635558  0.463917 -0.114805 -0.183361 -0.145783 -0.069083 -0.225775   \n",
       "2  2.345865 -2.890083  1.109969 -0.121359 -2.261857  0.524980  0.247998   \n",
       "3 -0.631418 -1.059647 -0.684093  1.965775 -1.232622 -0.208038 -0.108300   \n",
       "4  0.175121 -0.451449 -0.237033 -0.038195  0.803487  0.408542 -0.009431   \n",
       "\n",
       "        V22       V23       V24       V25       V26       V27       V28  \\\n",
       "0  0.277838 -0.110474  0.066928  0.128539 -0.189115  0.133558 -0.021053   \n",
       "1 -0.638672  0.101288 -0.339846  0.167170  0.125895 -0.008983  0.014724   \n",
       "2  0.771679  0.909412 -0.689281 -0.327642 -0.139097 -0.055353 -0.059752   \n",
       "3  0.005274 -0.190321 -1.175575  0.647376 -0.221929  0.062723  0.061458   \n",
       "4  0.798278 -0.137458  0.141267 -0.206010  0.502292  0.219422  0.215153   \n",
       "\n",
       "   Amount  Class  \n",
       "0  149.62      0  \n",
       "1    2.69      0  \n",
       "2  378.66      0  \n",
       "3  123.50      0  \n",
       "4   69.99      0  "
      ]
     },
     "execution_count": 4,
     "metadata": {},
     "output_type": "execute_result"
    }
   ],
   "source": [
    "cc.head()"
   ]
  },
  {
   "cell_type": "code",
   "execution_count": 5,
   "metadata": {},
   "outputs": [
    {
     "name": "stdout",
     "output_type": "stream",
     "text": [
      "<class 'pandas.core.frame.DataFrame'>\n",
      "RangeIndex: 284807 entries, 0 to 284806\n",
      "Data columns (total 31 columns):\n",
      " #   Column  Non-Null Count   Dtype  \n",
      "---  ------  --------------   -----  \n",
      " 0   Time    284807 non-null  float64\n",
      " 1   V1      284807 non-null  float64\n",
      " 2   V2      284807 non-null  float64\n",
      " 3   V3      284807 non-null  float64\n",
      " 4   V4      284807 non-null  float64\n",
      " 5   V5      284807 non-null  float64\n",
      " 6   V6      284807 non-null  float64\n",
      " 7   V7      284807 non-null  float64\n",
      " 8   V8      284807 non-null  float64\n",
      " 9   V9      284807 non-null  float64\n",
      " 10  V10     284807 non-null  float64\n",
      " 11  V11     284807 non-null  float64\n",
      " 12  V12     284807 non-null  float64\n",
      " 13  V13     284807 non-null  float64\n",
      " 14  V14     284807 non-null  float64\n",
      " 15  V15     284807 non-null  float64\n",
      " 16  V16     284807 non-null  float64\n",
      " 17  V17     284807 non-null  float64\n",
      " 18  V18     284807 non-null  float64\n",
      " 19  V19     284807 non-null  float64\n",
      " 20  V20     284807 non-null  float64\n",
      " 21  V21     284807 non-null  float64\n",
      " 22  V22     284807 non-null  float64\n",
      " 23  V23     284807 non-null  float64\n",
      " 24  V24     284807 non-null  float64\n",
      " 25  V25     284807 non-null  float64\n",
      " 26  V26     284807 non-null  float64\n",
      " 27  V27     284807 non-null  float64\n",
      " 28  V28     284807 non-null  float64\n",
      " 29  Amount  284807 non-null  float64\n",
      " 30  Class   284807 non-null  int64  \n",
      "dtypes: float64(30), int64(1)\n",
      "memory usage: 67.4 MB\n"
     ]
    }
   ],
   "source": [
    "cc.info()"
   ]
  },
  {
   "cell_type": "code",
   "execution_count": 6,
   "metadata": {},
   "outputs": [
    {
     "data": {
      "text/plain": [
       "1081"
      ]
     },
     "execution_count": 6,
     "metadata": {},
     "output_type": "execute_result"
    }
   ],
   "source": [
    "cc.duplicated().sum()"
   ]
  },
  {
   "cell_type": "code",
   "execution_count": 7,
   "metadata": {},
   "outputs": [],
   "source": [
    "cc.drop_duplicates(inplace = True)"
   ]
  },
  {
   "cell_type": "code",
   "execution_count": 8,
   "metadata": {},
   "outputs": [
    {
     "data": {
      "text/html": [
       "<div>\n",
       "<style scoped>\n",
       "    .dataframe tbody tr th:only-of-type {\n",
       "        vertical-align: middle;\n",
       "    }\n",
       "\n",
       "    .dataframe tbody tr th {\n",
       "        vertical-align: top;\n",
       "    }\n",
       "\n",
       "    .dataframe thead th {\n",
       "        text-align: right;\n",
       "    }\n",
       "</style>\n",
       "<table border=\"1\" class=\"dataframe\">\n",
       "  <thead>\n",
       "    <tr style=\"text-align: right;\">\n",
       "      <th></th>\n",
       "      <th>count</th>\n",
       "      <th>mean</th>\n",
       "      <th>std</th>\n",
       "      <th>min</th>\n",
       "      <th>25%</th>\n",
       "      <th>50%</th>\n",
       "      <th>75%</th>\n",
       "      <th>max</th>\n",
       "    </tr>\n",
       "  </thead>\n",
       "  <tbody>\n",
       "    <tr>\n",
       "      <th>Time</th>\n",
       "      <td>283726.0</td>\n",
       "      <td>94811.077600</td>\n",
       "      <td>47481.047891</td>\n",
       "      <td>0.000000</td>\n",
       "      <td>54204.750000</td>\n",
       "      <td>84692.500000</td>\n",
       "      <td>139298.000000</td>\n",
       "      <td>172792.000000</td>\n",
       "    </tr>\n",
       "    <tr>\n",
       "      <th>V1</th>\n",
       "      <td>283726.0</td>\n",
       "      <td>0.005917</td>\n",
       "      <td>1.948026</td>\n",
       "      <td>-56.407510</td>\n",
       "      <td>-0.915951</td>\n",
       "      <td>0.020384</td>\n",
       "      <td>1.316068</td>\n",
       "      <td>2.454930</td>\n",
       "    </tr>\n",
       "    <tr>\n",
       "      <th>V2</th>\n",
       "      <td>283726.0</td>\n",
       "      <td>-0.004135</td>\n",
       "      <td>1.646703</td>\n",
       "      <td>-72.715728</td>\n",
       "      <td>-0.600321</td>\n",
       "      <td>0.063949</td>\n",
       "      <td>0.800283</td>\n",
       "      <td>22.057729</td>\n",
       "    </tr>\n",
       "    <tr>\n",
       "      <th>V3</th>\n",
       "      <td>283726.0</td>\n",
       "      <td>0.001613</td>\n",
       "      <td>1.508682</td>\n",
       "      <td>-48.325589</td>\n",
       "      <td>-0.889682</td>\n",
       "      <td>0.179963</td>\n",
       "      <td>1.026960</td>\n",
       "      <td>9.382558</td>\n",
       "    </tr>\n",
       "    <tr>\n",
       "      <th>V4</th>\n",
       "      <td>283726.0</td>\n",
       "      <td>-0.002966</td>\n",
       "      <td>1.414184</td>\n",
       "      <td>-5.683171</td>\n",
       "      <td>-0.850134</td>\n",
       "      <td>-0.022248</td>\n",
       "      <td>0.739647</td>\n",
       "      <td>16.875344</td>\n",
       "    </tr>\n",
       "    <tr>\n",
       "      <th>V5</th>\n",
       "      <td>283726.0</td>\n",
       "      <td>0.001828</td>\n",
       "      <td>1.377008</td>\n",
       "      <td>-113.743307</td>\n",
       "      <td>-0.689830</td>\n",
       "      <td>-0.053468</td>\n",
       "      <td>0.612218</td>\n",
       "      <td>34.801666</td>\n",
       "    </tr>\n",
       "    <tr>\n",
       "      <th>V6</th>\n",
       "      <td>283726.0</td>\n",
       "      <td>-0.001139</td>\n",
       "      <td>1.331931</td>\n",
       "      <td>-26.160506</td>\n",
       "      <td>-0.769031</td>\n",
       "      <td>-0.275168</td>\n",
       "      <td>0.396792</td>\n",
       "      <td>73.301626</td>\n",
       "    </tr>\n",
       "    <tr>\n",
       "      <th>V7</th>\n",
       "      <td>283726.0</td>\n",
       "      <td>0.001801</td>\n",
       "      <td>1.227664</td>\n",
       "      <td>-43.557242</td>\n",
       "      <td>-0.552509</td>\n",
       "      <td>0.040859</td>\n",
       "      <td>0.570474</td>\n",
       "      <td>120.589494</td>\n",
       "    </tr>\n",
       "    <tr>\n",
       "      <th>V8</th>\n",
       "      <td>283726.0</td>\n",
       "      <td>-0.000854</td>\n",
       "      <td>1.179054</td>\n",
       "      <td>-73.216718</td>\n",
       "      <td>-0.208828</td>\n",
       "      <td>0.021898</td>\n",
       "      <td>0.325704</td>\n",
       "      <td>20.007208</td>\n",
       "    </tr>\n",
       "    <tr>\n",
       "      <th>V9</th>\n",
       "      <td>283726.0</td>\n",
       "      <td>-0.001596</td>\n",
       "      <td>1.095492</td>\n",
       "      <td>-13.434066</td>\n",
       "      <td>-0.644221</td>\n",
       "      <td>-0.052596</td>\n",
       "      <td>0.595977</td>\n",
       "      <td>15.594995</td>\n",
       "    </tr>\n",
       "    <tr>\n",
       "      <th>V10</th>\n",
       "      <td>283726.0</td>\n",
       "      <td>-0.001441</td>\n",
       "      <td>1.076407</td>\n",
       "      <td>-24.588262</td>\n",
       "      <td>-0.535578</td>\n",
       "      <td>-0.093237</td>\n",
       "      <td>0.453619</td>\n",
       "      <td>23.745136</td>\n",
       "    </tr>\n",
       "    <tr>\n",
       "      <th>V11</th>\n",
       "      <td>283726.0</td>\n",
       "      <td>0.000202</td>\n",
       "      <td>1.018720</td>\n",
       "      <td>-4.797473</td>\n",
       "      <td>-0.761649</td>\n",
       "      <td>-0.032306</td>\n",
       "      <td>0.739579</td>\n",
       "      <td>12.018913</td>\n",
       "    </tr>\n",
       "    <tr>\n",
       "      <th>V12</th>\n",
       "      <td>283726.0</td>\n",
       "      <td>-0.000715</td>\n",
       "      <td>0.994674</td>\n",
       "      <td>-18.683715</td>\n",
       "      <td>-0.406198</td>\n",
       "      <td>0.139072</td>\n",
       "      <td>0.616976</td>\n",
       "      <td>7.848392</td>\n",
       "    </tr>\n",
       "    <tr>\n",
       "      <th>V13</th>\n",
       "      <td>283726.0</td>\n",
       "      <td>0.000603</td>\n",
       "      <td>0.995430</td>\n",
       "      <td>-5.791881</td>\n",
       "      <td>-0.647862</td>\n",
       "      <td>-0.012927</td>\n",
       "      <td>0.663178</td>\n",
       "      <td>7.126883</td>\n",
       "    </tr>\n",
       "    <tr>\n",
       "      <th>V14</th>\n",
       "      <td>283726.0</td>\n",
       "      <td>0.000252</td>\n",
       "      <td>0.952215</td>\n",
       "      <td>-19.214325</td>\n",
       "      <td>-0.425732</td>\n",
       "      <td>0.050209</td>\n",
       "      <td>0.492336</td>\n",
       "      <td>10.526766</td>\n",
       "    </tr>\n",
       "    <tr>\n",
       "      <th>V15</th>\n",
       "      <td>283726.0</td>\n",
       "      <td>0.001043</td>\n",
       "      <td>0.914894</td>\n",
       "      <td>-4.498945</td>\n",
       "      <td>-0.581452</td>\n",
       "      <td>0.049299</td>\n",
       "      <td>0.650104</td>\n",
       "      <td>8.877742</td>\n",
       "    </tr>\n",
       "    <tr>\n",
       "      <th>V16</th>\n",
       "      <td>283726.0</td>\n",
       "      <td>0.001162</td>\n",
       "      <td>0.873696</td>\n",
       "      <td>-14.129855</td>\n",
       "      <td>-0.466860</td>\n",
       "      <td>0.067119</td>\n",
       "      <td>0.523512</td>\n",
       "      <td>17.315112</td>\n",
       "    </tr>\n",
       "    <tr>\n",
       "      <th>V17</th>\n",
       "      <td>283726.0</td>\n",
       "      <td>0.000170</td>\n",
       "      <td>0.842507</td>\n",
       "      <td>-25.162799</td>\n",
       "      <td>-0.483928</td>\n",
       "      <td>-0.065867</td>\n",
       "      <td>0.398972</td>\n",
       "      <td>9.253526</td>\n",
       "    </tr>\n",
       "    <tr>\n",
       "      <th>V18</th>\n",
       "      <td>283726.0</td>\n",
       "      <td>0.001515</td>\n",
       "      <td>0.837378</td>\n",
       "      <td>-9.498746</td>\n",
       "      <td>-0.498014</td>\n",
       "      <td>-0.002142</td>\n",
       "      <td>0.501956</td>\n",
       "      <td>5.041069</td>\n",
       "    </tr>\n",
       "    <tr>\n",
       "      <th>V19</th>\n",
       "      <td>283726.0</td>\n",
       "      <td>-0.000264</td>\n",
       "      <td>0.813379</td>\n",
       "      <td>-7.213527</td>\n",
       "      <td>-0.456289</td>\n",
       "      <td>0.003367</td>\n",
       "      <td>0.458508</td>\n",
       "      <td>5.591971</td>\n",
       "    </tr>\n",
       "    <tr>\n",
       "      <th>V20</th>\n",
       "      <td>283726.0</td>\n",
       "      <td>0.000187</td>\n",
       "      <td>0.769984</td>\n",
       "      <td>-54.497720</td>\n",
       "      <td>-0.211469</td>\n",
       "      <td>-0.062353</td>\n",
       "      <td>0.133207</td>\n",
       "      <td>39.420904</td>\n",
       "    </tr>\n",
       "    <tr>\n",
       "      <th>V21</th>\n",
       "      <td>283726.0</td>\n",
       "      <td>-0.000371</td>\n",
       "      <td>0.723909</td>\n",
       "      <td>-34.830382</td>\n",
       "      <td>-0.228305</td>\n",
       "      <td>-0.029441</td>\n",
       "      <td>0.186194</td>\n",
       "      <td>27.202839</td>\n",
       "    </tr>\n",
       "    <tr>\n",
       "      <th>V22</th>\n",
       "      <td>283726.0</td>\n",
       "      <td>-0.000015</td>\n",
       "      <td>0.724550</td>\n",
       "      <td>-10.933144</td>\n",
       "      <td>-0.542700</td>\n",
       "      <td>0.006675</td>\n",
       "      <td>0.528245</td>\n",
       "      <td>10.503090</td>\n",
       "    </tr>\n",
       "    <tr>\n",
       "      <th>V23</th>\n",
       "      <td>283726.0</td>\n",
       "      <td>0.000198</td>\n",
       "      <td>0.623702</td>\n",
       "      <td>-44.807735</td>\n",
       "      <td>-0.161703</td>\n",
       "      <td>-0.011159</td>\n",
       "      <td>0.147748</td>\n",
       "      <td>22.528412</td>\n",
       "    </tr>\n",
       "    <tr>\n",
       "      <th>V24</th>\n",
       "      <td>283726.0</td>\n",
       "      <td>0.000214</td>\n",
       "      <td>0.605627</td>\n",
       "      <td>-2.836627</td>\n",
       "      <td>-0.354453</td>\n",
       "      <td>0.041016</td>\n",
       "      <td>0.439738</td>\n",
       "      <td>4.584549</td>\n",
       "    </tr>\n",
       "    <tr>\n",
       "      <th>V25</th>\n",
       "      <td>283726.0</td>\n",
       "      <td>-0.000232</td>\n",
       "      <td>0.521220</td>\n",
       "      <td>-10.295397</td>\n",
       "      <td>-0.317485</td>\n",
       "      <td>0.016278</td>\n",
       "      <td>0.350667</td>\n",
       "      <td>7.519589</td>\n",
       "    </tr>\n",
       "    <tr>\n",
       "      <th>V26</th>\n",
       "      <td>283726.0</td>\n",
       "      <td>0.000149</td>\n",
       "      <td>0.482053</td>\n",
       "      <td>-2.604551</td>\n",
       "      <td>-0.326763</td>\n",
       "      <td>-0.052172</td>\n",
       "      <td>0.240261</td>\n",
       "      <td>3.517346</td>\n",
       "    </tr>\n",
       "    <tr>\n",
       "      <th>V27</th>\n",
       "      <td>283726.0</td>\n",
       "      <td>0.001763</td>\n",
       "      <td>0.395744</td>\n",
       "      <td>-22.565679</td>\n",
       "      <td>-0.070641</td>\n",
       "      <td>0.001479</td>\n",
       "      <td>0.091208</td>\n",
       "      <td>31.612198</td>\n",
       "    </tr>\n",
       "    <tr>\n",
       "      <th>V28</th>\n",
       "      <td>283726.0</td>\n",
       "      <td>0.000547</td>\n",
       "      <td>0.328027</td>\n",
       "      <td>-15.430084</td>\n",
       "      <td>-0.052818</td>\n",
       "      <td>0.011288</td>\n",
       "      <td>0.078276</td>\n",
       "      <td>33.847808</td>\n",
       "    </tr>\n",
       "    <tr>\n",
       "      <th>Amount</th>\n",
       "      <td>283726.0</td>\n",
       "      <td>88.472687</td>\n",
       "      <td>250.399437</td>\n",
       "      <td>0.000000</td>\n",
       "      <td>5.600000</td>\n",
       "      <td>22.000000</td>\n",
       "      <td>77.510000</td>\n",
       "      <td>25691.160000</td>\n",
       "    </tr>\n",
       "    <tr>\n",
       "      <th>Class</th>\n",
       "      <td>283726.0</td>\n",
       "      <td>0.001667</td>\n",
       "      <td>0.040796</td>\n",
       "      <td>0.000000</td>\n",
       "      <td>0.000000</td>\n",
       "      <td>0.000000</td>\n",
       "      <td>0.000000</td>\n",
       "      <td>1.000000</td>\n",
       "    </tr>\n",
       "  </tbody>\n",
       "</table>\n",
       "</div>"
      ],
      "text/plain": [
       "           count          mean           std         min           25%  \\\n",
       "Time    283726.0  94811.077600  47481.047891    0.000000  54204.750000   \n",
       "V1      283726.0      0.005917      1.948026  -56.407510     -0.915951   \n",
       "V2      283726.0     -0.004135      1.646703  -72.715728     -0.600321   \n",
       "V3      283726.0      0.001613      1.508682  -48.325589     -0.889682   \n",
       "V4      283726.0     -0.002966      1.414184   -5.683171     -0.850134   \n",
       "V5      283726.0      0.001828      1.377008 -113.743307     -0.689830   \n",
       "V6      283726.0     -0.001139      1.331931  -26.160506     -0.769031   \n",
       "V7      283726.0      0.001801      1.227664  -43.557242     -0.552509   \n",
       "V8      283726.0     -0.000854      1.179054  -73.216718     -0.208828   \n",
       "V9      283726.0     -0.001596      1.095492  -13.434066     -0.644221   \n",
       "V10     283726.0     -0.001441      1.076407  -24.588262     -0.535578   \n",
       "V11     283726.0      0.000202      1.018720   -4.797473     -0.761649   \n",
       "V12     283726.0     -0.000715      0.994674  -18.683715     -0.406198   \n",
       "V13     283726.0      0.000603      0.995430   -5.791881     -0.647862   \n",
       "V14     283726.0      0.000252      0.952215  -19.214325     -0.425732   \n",
       "V15     283726.0      0.001043      0.914894   -4.498945     -0.581452   \n",
       "V16     283726.0      0.001162      0.873696  -14.129855     -0.466860   \n",
       "V17     283726.0      0.000170      0.842507  -25.162799     -0.483928   \n",
       "V18     283726.0      0.001515      0.837378   -9.498746     -0.498014   \n",
       "V19     283726.0     -0.000264      0.813379   -7.213527     -0.456289   \n",
       "V20     283726.0      0.000187      0.769984  -54.497720     -0.211469   \n",
       "V21     283726.0     -0.000371      0.723909  -34.830382     -0.228305   \n",
       "V22     283726.0     -0.000015      0.724550  -10.933144     -0.542700   \n",
       "V23     283726.0      0.000198      0.623702  -44.807735     -0.161703   \n",
       "V24     283726.0      0.000214      0.605627   -2.836627     -0.354453   \n",
       "V25     283726.0     -0.000232      0.521220  -10.295397     -0.317485   \n",
       "V26     283726.0      0.000149      0.482053   -2.604551     -0.326763   \n",
       "V27     283726.0      0.001763      0.395744  -22.565679     -0.070641   \n",
       "V28     283726.0      0.000547      0.328027  -15.430084     -0.052818   \n",
       "Amount  283726.0     88.472687    250.399437    0.000000      5.600000   \n",
       "Class   283726.0      0.001667      0.040796    0.000000      0.000000   \n",
       "\n",
       "                 50%            75%            max  \n",
       "Time    84692.500000  139298.000000  172792.000000  \n",
       "V1          0.020384       1.316068       2.454930  \n",
       "V2          0.063949       0.800283      22.057729  \n",
       "V3          0.179963       1.026960       9.382558  \n",
       "V4         -0.022248       0.739647      16.875344  \n",
       "V5         -0.053468       0.612218      34.801666  \n",
       "V6         -0.275168       0.396792      73.301626  \n",
       "V7          0.040859       0.570474     120.589494  \n",
       "V8          0.021898       0.325704      20.007208  \n",
       "V9         -0.052596       0.595977      15.594995  \n",
       "V10        -0.093237       0.453619      23.745136  \n",
       "V11        -0.032306       0.739579      12.018913  \n",
       "V12         0.139072       0.616976       7.848392  \n",
       "V13        -0.012927       0.663178       7.126883  \n",
       "V14         0.050209       0.492336      10.526766  \n",
       "V15         0.049299       0.650104       8.877742  \n",
       "V16         0.067119       0.523512      17.315112  \n",
       "V17        -0.065867       0.398972       9.253526  \n",
       "V18        -0.002142       0.501956       5.041069  \n",
       "V19         0.003367       0.458508       5.591971  \n",
       "V20        -0.062353       0.133207      39.420904  \n",
       "V21        -0.029441       0.186194      27.202839  \n",
       "V22         0.006675       0.528245      10.503090  \n",
       "V23        -0.011159       0.147748      22.528412  \n",
       "V24         0.041016       0.439738       4.584549  \n",
       "V25         0.016278       0.350667       7.519589  \n",
       "V26        -0.052172       0.240261       3.517346  \n",
       "V27         0.001479       0.091208      31.612198  \n",
       "V28         0.011288       0.078276      33.847808  \n",
       "Amount     22.000000      77.510000   25691.160000  \n",
       "Class       0.000000       0.000000       1.000000  "
      ]
     },
     "execution_count": 8,
     "metadata": {},
     "output_type": "execute_result"
    }
   ],
   "source": [
    "describe = cc.describe().T\n",
    "describe"
   ]
  },
  {
   "cell_type": "code",
   "execution_count": 9,
   "metadata": {},
   "outputs": [
    {
     "data": {
      "text/plain": [
       "Time      0\n",
       "V1        0\n",
       "V2        0\n",
       "V3        0\n",
       "V4        0\n",
       "V5        0\n",
       "V6        0\n",
       "V7        0\n",
       "V8        0\n",
       "V9        0\n",
       "V10       0\n",
       "V11       0\n",
       "V12       0\n",
       "V13       0\n",
       "V14       0\n",
       "V15       0\n",
       "V16       0\n",
       "V17       0\n",
       "V18       0\n",
       "V19       0\n",
       "V20       0\n",
       "V21       0\n",
       "V22       0\n",
       "V23       0\n",
       "V24       0\n",
       "V25       0\n",
       "V26       0\n",
       "V27       0\n",
       "V28       0\n",
       "Amount    0\n",
       "Class     0\n",
       "dtype: int64"
      ]
     },
     "execution_count": 9,
     "metadata": {},
     "output_type": "execute_result"
    }
   ],
   "source": [
    "cc.isna().sum()"
   ]
  },
  {
   "cell_type": "code",
   "execution_count": 10,
   "metadata": {},
   "outputs": [
    {
     "data": {
      "text/plain": [
       "0    283253\n",
       "1       473\n",
       "Name: Class, dtype: int64"
      ]
     },
     "execution_count": 10,
     "metadata": {},
     "output_type": "execute_result"
    }
   ],
   "source": [
    "cc.Class.value_counts()"
   ]
  },
  {
   "cell_type": "code",
   "execution_count": 11,
   "metadata": {},
   "outputs": [
    {
     "data": {
      "text/plain": [
       "0    0.998333\n",
       "1    0.001667\n",
       "Name: Class, dtype: float64"
      ]
     },
     "execution_count": 11,
     "metadata": {},
     "output_type": "execute_result"
    }
   ],
   "source": [
    "cc.Class.value_counts(normalize = True)"
   ]
  },
  {
   "cell_type": "code",
   "execution_count": 12,
   "metadata": {},
   "outputs": [
    {
     "data": {
      "text/plain": [
       "<seaborn.axisgrid.FacetGrid at 0x7fa1e648d9d0>"
      ]
     },
     "execution_count": 12,
     "metadata": {},
     "output_type": "execute_result"
    },
    {
     "data": {
      "image/png": "[encoded data removed]",
      "text/plain": [
       "<Figure size 360x360 with 1 Axes>"
      ]
     },
     "metadata": {
      "needs_background": "light"
     },
     "output_type": "display_data"
    }
   ],
   "source": [
    "sn.catplot('Class', data = cc, kind = 'count')"
   ]
  },
  {
   "cell_type": "code",
   "execution_count": 13,
   "metadata": {},
   "outputs": [
    {
     "data": {
      "text/plain": [
       "<seaborn.axisgrid.FacetGrid at 0x7fa1e657c6d0>"
      ]
     },
     "execution_count": 13,
     "metadata": {},
     "output_type": "execute_result"
    },
    {
     "data": {
      "image/png": "[encoded data removed]",
      "text/plain": [
       "<Figure size 1080x360 with 1 Axes>"
      ]
     },
     "metadata": {
      "needs_background": "light"
     },
     "output_type": "display_data"
    }
   ],
   "source": [
    "sn.displot(cc.Time, kde = True, aspect = 3).set(xlim = [cc.Time.min(),cc.Time.max()])"
   ]
  },
  {
   "cell_type": "code",
   "execution_count": 14,
   "metadata": {},
   "outputs": [
    {
     "data": {
      "text/plain": [
       "<seaborn.axisgrid.FacetGrid at 0x7fa1dc05ba00>"
      ]
     },
     "execution_count": 14,
     "metadata": {},
     "output_type": "execute_result"
    },
    {
     "data": {
      "image/png": "[encoded data removed]",
      "text/plain": [
       "<Figure size 1080x360 with 1 Axes>"
      ]
     },
     "metadata": {
      "needs_background": "light"
     },
     "output_type": "display_data"
    }
   ],
   "source": [
    "sn.displot(cc.Amount, kde = True, aspect = 3).set(xlim = [cc.Amount.min(),cc.Amount.max()]\n",
    "                                                 ,ylim = (0, 6000))"
   ]
  },
  {
   "cell_type": "code",
   "execution_count": 15,
   "metadata": {},
   "outputs": [
    {
     "data": {
      "image/png": "[encoded data removed]",
      "text/plain": [
       "<Figure size 720x360 with 2 Axes>"
      ]
     },
     "metadata": {
      "needs_background": "light"
     },
     "output_type": "display_data"
    }
   ],
   "source": [
    "fig, axes = plt.subplots(1,2, figsize=(10, 5))\n",
    "\n",
    "sn.boxplot(y = 'Time', data = cc, ax = axes[0])\n",
    "sn.boxplot(y = 'Amount', data = cc, ax = axes[1])\n",
    "\n",
    "plt.show()"
   ]
  },
  {
   "cell_type": "code",
   "execution_count": 16,
   "metadata": {
    "scrolled": true
   },
   "outputs": [
    {
     "data": {
      "image/png": "[encoded data removed]",
      "text/plain": [
       "<Figure size 1440x360 with 2 Axes>"
      ]
     },
     "metadata": {
      "needs_background": "light"
     },
     "output_type": "display_data"
    }
   ],
   "source": [
    "fig, axes = plt.subplots(1,2, figsize=(20, 5))\n",
    "\n",
    "sn.histplot(data = cc[cc.Class == 0], x = 'Time',  kde = True, ax = axes[0]).set(xlim = [cc.Time.min(),cc.Time.max()])\n",
    "sn.histplot(data = cc[cc.Class == 1], x = 'Time',  kde = True, ax = axes[1]).set(xlim = [cc.Time.min(),cc.Time.max()])\n",
    "\n",
    "plt.show()"
   ]
  },
  {
   "cell_type": "code",
   "execution_count": 17,
   "metadata": {},
   "outputs": [
    {
     "data": {
      "image/png": "[encoded data removed]",
      "text/plain": [
       "<Figure size 1440x360 with 2 Axes>"
      ]
     },
     "metadata": {
      "needs_background": "light"
     },
     "output_type": "display_data"
    }
   ],
   "source": [
    "fig, axes = plt.subplots(1,2, figsize=(20, 5))\n",
    "\n",
    "sn.histplot(data = cc[cc.Class == 0], x = 'Amount',  kde = True, ax = axes[0]).set(xlim = [cc[cc.Class == 0].Amount.min(),cc[cc.Class == 0].Amount.max()]\n",
    "                                                                                  ,ylim = (0, 6000))\n",
    "sn.histplot(data = cc[cc.Class == 1], x = 'Amount',  kde = True, ax = axes[1]).set(xlim = [cc[cc.Class == 1].Amount.min(),cc[cc.Class == 1].Amount.max()])\n",
    "\n",
    "plt.show()"
   ]
  },
  {
   "cell_type": "code",
   "execution_count": 18,
   "metadata": {},
   "outputs": [],
   "source": [
    "tf_std = StandardScaler().fit(cc['Time'].values.reshape(-1, 1))\n",
    "cc['Time_scaled'] = tf_std.transform(cc['Time'].values.reshape(-1,1))\n",
    "\n",
    "\n",
    "tf_rob = RobustScaler().fit(cc['Amount'].values.reshape(-1, 1))\n",
    "cc['Amount_scaled'] = tf_rob.transform(cc['Amount'].values.reshape(-1,1))"
   ]
  },
  {
   "cell_type": "code",
   "execution_count": 19,
   "metadata": {},
   "outputs": [
    {
     "data": {
      "text/html": [
       "<div>\n",
       "<style scoped>\n",
       "    .dataframe tbody tr th:only-of-type {\n",
       "        vertical-align: middle;\n",
       "    }\n",
       "\n",
       "    .dataframe tbody tr th {\n",
       "        vertical-align: top;\n",
       "    }\n",
       "\n",
       "    .dataframe thead th {\n",
       "        text-align: right;\n",
       "    }\n",
       "</style>\n",
       "<table border=\"1\" class=\"dataframe\">\n",
       "  <thead>\n",
       "    <tr style=\"text-align: right;\">\n",
       "      <th></th>\n",
       "      <th>count</th>\n",
       "      <th>mean</th>\n",
       "      <th>std</th>\n",
       "      <th>min</th>\n",
       "      <th>25%</th>\n",
       "      <th>50%</th>\n",
       "      <th>75%</th>\n",
       "      <th>max</th>\n",
       "    </tr>\n",
       "  </thead>\n",
       "  <tbody>\n",
       "    <tr>\n",
       "      <th>Time</th>\n",
       "      <td>283726.0</td>\n",
       "      <td>9.481108e+04</td>\n",
       "      <td>47481.047891</td>\n",
       "      <td>0.000000</td>\n",
       "      <td>54204.750000</td>\n",
       "      <td>84692.500000</td>\n",
       "      <td>139298.000000</td>\n",
       "      <td>172792.000000</td>\n",
       "    </tr>\n",
       "    <tr>\n",
       "      <th>Time_scaled</th>\n",
       "      <td>283726.0</td>\n",
       "      <td>1.248702e-14</td>\n",
       "      <td>1.000002</td>\n",
       "      <td>-1.996823</td>\n",
       "      <td>-0.855213</td>\n",
       "      <td>-0.213108</td>\n",
       "      <td>0.936942</td>\n",
       "      <td>1.642362</td>\n",
       "    </tr>\n",
       "    <tr>\n",
       "      <th>Amount</th>\n",
       "      <td>283726.0</td>\n",
       "      <td>8.847269e+01</td>\n",
       "      <td>250.399437</td>\n",
       "      <td>0.000000</td>\n",
       "      <td>5.600000</td>\n",
       "      <td>22.000000</td>\n",
       "      <td>77.510000</td>\n",
       "      <td>25691.160000</td>\n",
       "    </tr>\n",
       "    <tr>\n",
       "      <th>Amount_scaled</th>\n",
       "      <td>283726.0</td>\n",
       "      <td>9.243873e-01</td>\n",
       "      <td>3.482123</td>\n",
       "      <td>-0.305938</td>\n",
       "      <td>-0.228063</td>\n",
       "      <td>0.000000</td>\n",
       "      <td>0.771937</td>\n",
       "      <td>356.962314</td>\n",
       "    </tr>\n",
       "  </tbody>\n",
       "</table>\n",
       "</div>"
      ],
      "text/plain": [
       "                  count          mean           std       min           25%  \\\n",
       "Time           283726.0  9.481108e+04  47481.047891  0.000000  54204.750000   \n",
       "Time_scaled    283726.0  1.248702e-14      1.000002 -1.996823     -0.855213   \n",
       "Amount         283726.0  8.847269e+01    250.399437  0.000000      5.600000   \n",
       "Amount_scaled  283726.0  9.243873e-01      3.482123 -0.305938     -0.228063   \n",
       "\n",
       "                        50%            75%            max  \n",
       "Time           84692.500000  139298.000000  172792.000000  \n",
       "Time_scaled       -0.213108       0.936942       1.642362  \n",
       "Amount            22.000000      77.510000   25691.160000  \n",
       "Amount_scaled      0.000000       0.771937     356.962314  "
      ]
     },
     "execution_count": 19,
     "metadata": {},
     "output_type": "execute_result"
    }
   ],
   "source": [
    "cc[['Time','Time_scaled','Amount','Amount_scaled']].describe().T"
   ]
  },
  {
   "cell_type": "code",
   "execution_count": 20,
   "metadata": {},
   "outputs": [
    {
     "name": "stdout",
     "output_type": "stream",
     "text": [
      "<class 'pandas.core.frame.DataFrame'>\n",
      "Int64Index: 283726 entries, 0 to 284806\n",
      "Data columns (total 33 columns):\n",
      " #   Column         Non-Null Count   Dtype  \n",
      "---  ------         --------------   -----  \n",
      " 0   Time           283726 non-null  float64\n",
      " 1   V1             283726 non-null  float64\n",
      " 2   V2             283726 non-null  float64\n",
      " 3   V3             283726 non-null  float64\n",
      " 4   V4             283726 non-null  float64\n",
      " 5   V5             283726 non-null  float64\n",
      " 6   V6             283726 non-null  float64\n",
      " 7   V7             283726 non-null  float64\n",
      " 8   V8             283726 non-null  float64\n",
      " 9   V9             283726 non-null  float64\n",
      " 10  V10            283726 non-null  float64\n",
      " 11  V11            283726 non-null  float64\n",
      " 12  V12            283726 non-null  float64\n",
      " 13  V13            283726 non-null  float64\n",
      " 14  V14            283726 non-null  float64\n",
      " 15  V15            283726 non-null  float64\n",
      " 16  V16            283726 non-null  float64\n",
      " 17  V17            283726 non-null  float64\n",
      " 18  V18            283726 non-null  float64\n",
      " 19  V19            283726 non-null  float64\n",
      " 20  V20            283726 non-null  float64\n",
      " 21  V21            283726 non-null  float64\n",
      " 22  V22            283726 non-null  float64\n",
      " 23  V23            283726 non-null  float64\n",
      " 24  V24            283726 non-null  float64\n",
      " 25  V25            283726 non-null  float64\n",
      " 26  V26            283726 non-null  float64\n",
      " 27  V27            283726 non-null  float64\n",
      " 28  V28            283726 non-null  float64\n",
      " 29  Amount         283726 non-null  float64\n",
      " 30  Class          283726 non-null  int64  \n",
      " 31  Time_scaled    283726 non-null  float64\n",
      " 32  Amount_scaled  283726 non-null  float64\n",
      "dtypes: float64(32), int64(1)\n",
      "memory usage: 81.7 MB\n"
     ]
    }
   ],
   "source": [
    "cc.info()"
   ]
  },
  {
   "cell_type": "code",
   "execution_count": 21,
   "metadata": {},
   "outputs": [
    {
     "data": {
      "text/plain": [
       "<AxesSubplot:>"
      ]
     },
     "execution_count": 21,
     "metadata": {},
     "output_type": "execute_result"
    },
    {
     "data": {
      "image/png": "[encoded data removed]",
      "text/plain": [
       "<Figure size 1440x1440 with 2 Axes>"
      ]
     },
     "metadata": {
      "needs_background": "light"
     },
     "output_type": "display_data"
    }
   ],
   "source": [
    "cc.drop(columns = ['Time','Amount'], inplace = True)\n",
    "\n",
    "plt.figure(figsize = (20,20))\n",
    "sn.heatmap(cc.corr(), linewidths = .01, square = True, cmap = 'RdBu', linecolor = 'black')"
   ]
  },
  {
   "cell_type": "code",
   "execution_count": 22,
   "metadata": {},
   "outputs": [
    {
     "data": {
      "image/png": "[encoded data removed]",
      "text/plain": [
       "<Figure size 720x360 with 2 Axes>"
      ]
     },
     "metadata": {
      "needs_background": "light"
     },
     "output_type": "display_data"
    }
   ],
   "source": [
    "fig, axes = plt.subplots(1,2, figsize=(10, 5))\n",
    "\n",
    "sn.boxplot(y = 'Time_scaled', data = cc, ax = axes[0])\n",
    "sn.boxplot(y = 'Amount_scaled', data = cc, ax = axes[1])\n",
    "\n",
    "plt.show()"
   ]
  },
  {
   "cell_type": "code",
   "execution_count": 23,
   "metadata": {},
   "outputs": [
    {
     "name": "stdout",
     "output_type": "stream",
     "text": [
      "训练样本数: 198608 测试样本数: 85118\n"
     ]
    }
   ],
   "source": [
    "x = cc.drop(columns = 'Class')\n",
    "y = cc['Class']\n",
    "\n",
    "Xtrain, Xtest, Ytrain, Ytest = train_test_split(x, y, test_size = 0.3, random_state = 1912) #划分训练集和测试集\n",
    "\n",
    "print('训练样本数:',Xtrain.shape[0], '测试样本数:',Xtest.shape[0]) "
   ]
  },
  {
   "cell_type": "markdown",
   "metadata": {},
   "source": [
    "## SMOTE(Synthetic Minority Oversampling Technique)合成少数类过采样技术"
   ]
  },
  {
   "cell_type": "markdown",
   "metadata": {},
   "source": [
    "<img src=\"./SMOTE.png\" style=\"zoom:80%\" />"
   ]
  },
  {
   "cell_type": "markdown",
   "metadata": {},
   "source": [
    "<img src=\"./result_SMOTE.jpeg\" style=\"zoom:40%\" />"
   ]
  },
  {
   "cell_type": "code",
   "execution_count": 24,
   "metadata": {},
   "outputs": [
    {
     "data": {
      "text/plain": [
       "0    198283\n",
       "1       325\n",
       "Name: Class, dtype: int64"
      ]
     },
     "execution_count": 24,
     "metadata": {},
     "output_type": "execute_result"
    }
   ],
   "source": [
    "Ytrain.value_counts()"
   ]
  },
  {
   "cell_type": "code",
   "execution_count": 25,
   "metadata": {},
   "outputs": [
    {
     "data": {
      "text/plain": [
       "0    198283\n",
       "1    198283\n",
       "Name: Class, dtype: int64"
      ]
     },
     "execution_count": 25,
     "metadata": {},
     "output_type": "execute_result"
    }
   ],
   "source": [
    "sm = SMOTE(random_state = 1912)\n",
    "Xtrain,Ytrain = sm.fit_resample(Xtrain,Ytrain)\n",
    "\n",
    "Ytrain.value_counts()"
   ]
  },
  {
   "cell_type": "code",
   "execution_count": 26,
   "metadata": {},
   "outputs": [
    {
     "data": {
      "text/plain": [
       "RandomForestClassifier()"
      ]
     },
     "execution_count": 26,
     "metadata": {},
     "output_type": "execute_result"
    }
   ],
   "source": [
    "#time warnning!\n",
    "\n",
    "abc = AdaBoostClassifier(n_estimators = 100 )\n",
    "rfc = RandomForestClassifier(n_estimators = 100)\n",
    "\n",
    "abc.fit(Xtrain, Ytrain)\n",
    "rfc.fit(Xtrain, Ytrain)"
   ]
  },
  {
   "cell_type": "code",
   "execution_count": 27,
   "metadata": {},
   "outputs": [
    {
     "name": "stdout",
     "output_type": "stream",
     "text": [
      "AdaBoost在训练集上的accuracy: 0.9812111981359976 AdaBoost在测试集上的accuracy: 0.9863601118447332 \n",
      "RandomForest在训练集上的accuracy: 1.0 RandomForest在测试集上的accuracy: 1.0\n"
     ]
    }
   ],
   "source": [
    "score_train_abc = abc.score(Xtrain, Ytrain)\n",
    "score_test_abc = abc.score(Xtest, Ytest)\n",
    "\n",
    "score_train_rfc = rfc.score(Xtrain, Ytrain)\n",
    "score_test_rfc = rfc.score(Xtest, Ytest)\n",
    "\n",
    "print('AdaBoost在训练集上的accuracy:',score_train_abc, 'AdaBoost在测试集上的accuracy:',score_test_abc,\n",
    "     '\\n''RandomForest在训练集上的accuracy:',score_train_rfc,'RandomForest在测试集上的accuracy:',score_train_rfc)\n"
   ]
  },
  {
   "cell_type": "code",
   "execution_count": 28,
   "metadata": {},
   "outputs": [
    {
     "name": "stdout",
     "output_type": "stream",
     "text": [
      "DecisionTree在训练集上的accuracy: 1.0 DecisionTree在测试集上的accuracy: 0.9974623463897178\n"
     ]
    }
   ],
   "source": [
    "dtc = DecisionTreeClassifier()\n",
    "dtc.fit(Xtrain, Ytrain)\n",
    "\n",
    "score_train_dtc = dtc.score(Xtrain, Ytrain)\n",
    "score_test_dtc = dtc.score(Xtest, Ytest)\n",
    "\n",
    "print('DecisionTree在训练集上的accuracy:',score_train_dtc, 'DecisionTree在测试集上的accuracy:',score_test_dtc)"
   ]
  },
  {
   "cell_type": "markdown",
   "metadata": {},
   "source": [
    "## 混淆矩阵"
   ]
  },
  {
   "cell_type": "markdown",
   "metadata": {},
   "source": [
    "<img src=\"./confusion_matrix.jpg\" style=\"zoom:50%\" />"
   ]
  },
  {
   "cell_type": "markdown",
   "metadata": {},
   "source": [
    "### $$Recall = \\frac{TP}{TP + FN}(在所有真实正样本中被模型正确识别的比率)$$\n",
    "### $$Precison = \\frac{TP}{TP + FP}(在被模型识别为正样本中真实正样本的比率)$$\n",
    "### $$F1 =\\frac{2}{\\frac{1}{Recall} + \\frac{1}{Precison}}= \\frac{2*Recall*Precison}{Recall + Precison}(Recall和Precison的调和平均数)$$\n",
    "### $$F_\\beta = \\frac{\\beta^2 + 1}{\\frac{\\beta^2}{Recall} + \\frac{1}{Precison}}= \\frac{(\\beta^2 + 1)*Recall*Precison}{\\beta^2*Precison + Recall}(在F1基础上引入β)$$"
   ]
  },
  {
   "cell_type": "code",
   "execution_count": 29,
   "metadata": {},
   "outputs": [
    {
     "name": "stdout",
     "output_type": "stream",
     "text": [
      "DecisionTree的Recall 0.7297297297297297 \n",
      "RandomForest的Recall 0.7837837837837838 \n",
      "AdaBoost的Recall 0.8716216216216216\n"
     ]
    }
   ],
   "source": [
    "from sklearn.metrics import recall_score, precision_score, f1_score, fbeta_score, confusion_matrix\n",
    "\n",
    "recall_abc, recall_rfc, recall_dtc = recall_score(Ytest, abc.predict(Xtest)), recall_score(Ytest, rfc.predict(Xtest)), recall_score(Ytest, dtc.predict(Xtest))\n",
    "\n",
    "print('DecisionTree的Recall', recall_dtc,'\\n'\n",
    "     'RandomForest的Recall',recall_rfc,'\\n'\n",
    "     'AdaBoost的Recall',recall_abc)"
   ]
  },
  {
   "cell_type": "code",
   "execution_count": 30,
   "metadata": {},
   "outputs": [
    {
     "name": "stdout",
     "output_type": "stream",
     "text": [
      "DecisionTree的Precision 0.38028169014084506 \n",
      "RandomForest的Precision 0.8923076923076924 \n",
      "AdaBoost的Precision 0.10149488591660111\n"
     ]
    }
   ],
   "source": [
    "precision_abc, precision_rfc, precision_dtc = precision_score(Ytest, abc.predict(Xtest)), precision_score(Ytest, rfc.predict(Xtest)), precision_score(Ytest, dtc.predict(Xtest))\n",
    "\n",
    "print('DecisionTree的Precision', precision_dtc,'\\n'\n",
    "     'RandomForest的Precision',precision_rfc,'\\n'\n",
    "     'AdaBoost的Precision',precision_abc)"
   ]
  },
  {
   "cell_type": "code",
   "execution_count": 31,
   "metadata": {},
   "outputs": [
    {
     "name": "stdout",
     "output_type": "stream",
     "text": [
      "DecisionTree的F1 0.5 \n",
      "RandomForest的F1 0.8345323741007195 \n",
      "AdaBoost的F1 0.18181818181818185\n"
     ]
    }
   ],
   "source": [
    "f1_abc, f1_rfc, f1_dtc = f1_score(Ytest, abc.predict(Xtest)), f1_score(Ytest, rfc.predict(Xtest)), f1_score(Ytest, dtc.predict(Xtest))\n",
    "\n",
    "print('DecisionTree的F1', f1_dtc,'\\n'\n",
    "     'RandomForest的F1',f1_rfc,'\\n'\n",
    "     'AdaBoost的F1',f1_abc)"
   ]
  },
  {
   "cell_type": "code",
   "execution_count": 32,
   "metadata": {},
   "outputs": [
    {
     "name": "stdout",
     "output_type": "stream",
     "text": [
      "DecisionTree的Fβ 0.7231503579952269 \n",
      "RandomForest的Fβ 0.7847287340924312 \n",
      "AdaBoost的Fβ 0.8107149523987306\n"
     ]
    }
   ],
   "source": [
    "fbeta_abc, fbeta_rfc, fbeta_dtc = fbeta_score(Ytest,abc.predict(Xtest),10), fbeta_score(Ytest,rfc.predict(Xtest),10), fbeta_score(Ytest,dtc.predict(Xtest),10)\n",
    "\n",
    "print('DecisionTree的Fβ', fbeta_dtc,'\\n'\n",
    "     'RandomForest的Fβ',fbeta_rfc,'\\n'\n",
    "     'AdaBoost的Fβ',fbeta_abc)"
   ]
  },
  {
   "cell_type": "code",
   "execution_count": 33,
   "metadata": {},
   "outputs": [
    {
     "name": "stdout",
     "output_type": "stream",
     "text": [
      "DecisionTree的混淆矩阵 \n",
      " [[84794   176]\n",
      " [   40   108]] \n",
      " \n",
      "RandomForest的混淆矩阵 \n",
      " [[84956    14]\n",
      " [   32   116]] \n",
      " \n",
      "AdaBoost的混淆矩阵 \n",
      " [[83828  1142]\n",
      " [   19   129]]\n"
     ]
    }
   ],
   "source": [
    "cnf_matrix_abc,cnf_matrix_rfc,cnf_matrix_dtc = confusion_matrix(Ytest,abc.predict(Xtest)),confusion_matrix(Ytest,rfc.predict(Xtest)),confusion_matrix(Ytest,dtc.predict(Xtest))\n",
    "\n",
    "print('DecisionTree的混淆矩阵','\\n',\n",
    "      cnf_matrix_dtc,'\\n',\n",
    "      '\\n'\n",
    "     'RandomForest的混淆矩阵','\\n',\n",
    "      cnf_matrix_rfc,'\\n',\n",
    "      '\\n'\n",
    "     'AdaBoost的混淆矩阵','\\n',\n",
    "      cnf_matrix_abc)"
   ]
  },
  {
   "cell_type": "code",
   "execution_count": 34,
   "metadata": {},
   "outputs": [
    {
     "data": {
      "text/html": [
       "<div>\n",
       "<style scoped>\n",
       "    .dataframe tbody tr th:only-of-type {\n",
       "        vertical-align: middle;\n",
       "    }\n",
       "\n",
       "    .dataframe tbody tr th {\n",
       "        vertical-align: top;\n",
       "    }\n",
       "\n",
       "    .dataframe thead th {\n",
       "        text-align: right;\n",
       "    }\n",
       "</style>\n",
       "<table border=\"1\" class=\"dataframe\">\n",
       "  <thead>\n",
       "    <tr style=\"text-align: right;\">\n",
       "      <th></th>\n",
       "      <th>feature</th>\n",
       "      <th>feature importance</th>\n",
       "    </tr>\n",
       "  </thead>\n",
       "  <tbody>\n",
       "    <tr>\n",
       "      <th>13</th>\n",
       "      <td>V14</td>\n",
       "      <td>0.12</td>\n",
       "    </tr>\n",
       "    <tr>\n",
       "      <th>29</th>\n",
       "      <td>Amount_scaled</td>\n",
       "      <td>0.07</td>\n",
       "    </tr>\n",
       "    <tr>\n",
       "      <th>3</th>\n",
       "      <td>V4</td>\n",
       "      <td>0.07</td>\n",
       "    </tr>\n",
       "    <tr>\n",
       "      <th>28</th>\n",
       "      <td>Time_scaled</td>\n",
       "      <td>0.05</td>\n",
       "    </tr>\n",
       "    <tr>\n",
       "      <th>4</th>\n",
       "      <td>V5</td>\n",
       "      <td>0.04</td>\n",
       "    </tr>\n",
       "  </tbody>\n",
       "</table>\n",
       "</div>"
      ],
      "text/plain": [
       "          feature  feature importance\n",
       "13            V14                0.12\n",
       "29  Amount_scaled                0.07\n",
       "3              V4                0.07\n",
       "28    Time_scaled                0.05\n",
       "4              V5                0.04"
      ]
     },
     "execution_count": 34,
     "metadata": {},
     "output_type": "execute_result"
    }
   ],
   "source": [
    "fi = pd.concat([pd.DataFrame(Xtrain.columns),pd.DataFrame(abc.feature_importances_)]\n",
    "               ,axis = 1\n",
    "               ,ignore_index = True\n",
    "              )\n",
    "fi.columns = ['feature','feature importance']\n",
    "fi.sort_values(by = 'feature importance', ascending = False)[:5]   #前5个重要特征"
   ]
  },
  {
   "cell_type": "code",
   "execution_count": 35,
   "metadata": {},
   "outputs": [
    {
     "data": {
      "text/html": [
       "<div>\n",
       "<style scoped>\n",
       "    .dataframe tbody tr th:only-of-type {\n",
       "        vertical-align: middle;\n",
       "    }\n",
       "\n",
       "    .dataframe tbody tr th {\n",
       "        vertical-align: top;\n",
       "    }\n",
       "\n",
       "    .dataframe thead th {\n",
       "        text-align: right;\n",
       "    }\n",
       "</style>\n",
       "<table border=\"1\" class=\"dataframe\">\n",
       "  <thead>\n",
       "    <tr style=\"text-align: right;\">\n",
       "      <th></th>\n",
       "      <th>feature</th>\n",
       "      <th>feature importance</th>\n",
       "    </tr>\n",
       "  </thead>\n",
       "  <tbody>\n",
       "    <tr>\n",
       "      <th>13</th>\n",
       "      <td>V14</td>\n",
       "      <td>0.192056</td>\n",
       "    </tr>\n",
       "    <tr>\n",
       "      <th>3</th>\n",
       "      <td>V4</td>\n",
       "      <td>0.124413</td>\n",
       "    </tr>\n",
       "    <tr>\n",
       "      <th>9</th>\n",
       "      <td>V10</td>\n",
       "      <td>0.114469</td>\n",
       "    </tr>\n",
       "    <tr>\n",
       "      <th>11</th>\n",
       "      <td>V12</td>\n",
       "      <td>0.099830</td>\n",
       "    </tr>\n",
       "    <tr>\n",
       "      <th>16</th>\n",
       "      <td>V17</td>\n",
       "      <td>0.098225</td>\n",
       "    </tr>\n",
       "  </tbody>\n",
       "</table>\n",
       "</div>"
      ],
      "text/plain": [
       "   feature  feature importance\n",
       "13     V14            0.192056\n",
       "3       V4            0.124413\n",
       "9      V10            0.114469\n",
       "11     V12            0.099830\n",
       "16     V17            0.098225"
      ]
     },
     "execution_count": 35,
     "metadata": {},
     "output_type": "execute_result"
    }
   ],
   "source": [
    "fi = pd.concat([pd.DataFrame(Xtrain.columns),pd.DataFrame(rfc.feature_importances_)]\n",
    "               ,axis = 1\n",
    "               ,ignore_index = True\n",
    "              )\n",
    "fi.columns = ['feature','feature importance']\n",
    "fi.sort_values(by = 'feature importance', ascending = False)[:5]   #前5个重要特征"
   ]
  },
  {
   "cell_type": "code",
   "execution_count": 36,
   "metadata": {},
   "outputs": [
    {
     "data": {
      "image/png": "[encoded data removed]",
      "text/plain": [
       "<Figure size 1440x360 with 2 Axes>"
      ]
     },
     "metadata": {
      "needs_background": "light"
     },
     "output_type": "display_data"
    }
   ],
   "source": [
    "fig, axes = plt.subplots(1,2, figsize=(20, 5))\n",
    "\n",
    "sn.histplot(data = cc[cc.Class == 0], x = 'V14',  kde = True, ax = axes[0]).set(xlim = [cc[cc.Class == 0].V14.min(),cc[cc.Class == 0].V14.max()])\n",
    "sn.histplot(data = cc[cc.Class == 1], x = 'V14',  kde = True, ax = axes[1]).set(xlim = [cc[cc.Class == 1].V14.min(),cc[cc.Class == 1].V14.max()])\n",
    "\n",
    "plt.show()"
   ]
  },
  {
   "cell_type": "code",
   "execution_count": 37,
   "metadata": {},
   "outputs": [
    {
     "data": {
      "text/html": [
       "<div>\n",
       "<style scoped>\n",
       "    .dataframe tbody tr th:only-of-type {\n",
       "        vertical-align: middle;\n",
       "    }\n",
       "\n",
       "    .dataframe tbody tr th {\n",
       "        vertical-align: top;\n",
       "    }\n",
       "\n",
       "    .dataframe thead th {\n",
       "        text-align: right;\n",
       "    }\n",
       "</style>\n",
       "<table border=\"1\" class=\"dataframe\">\n",
       "  <thead>\n",
       "    <tr style=\"text-align: right;\">\n",
       "      <th></th>\n",
       "      <th>feature</th>\n",
       "      <th>feature importance</th>\n",
       "    </tr>\n",
       "  </thead>\n",
       "  <tbody>\n",
       "    <tr>\n",
       "      <th>13</th>\n",
       "      <td>V14</td>\n",
       "      <td>0.750306</td>\n",
       "    </tr>\n",
       "    <tr>\n",
       "      <th>3</th>\n",
       "      <td>V4</td>\n",
       "      <td>0.038190</td>\n",
       "    </tr>\n",
       "    <tr>\n",
       "      <th>11</th>\n",
       "      <td>V12</td>\n",
       "      <td>0.026974</td>\n",
       "    </tr>\n",
       "    <tr>\n",
       "      <th>9</th>\n",
       "      <td>V10</td>\n",
       "      <td>0.025112</td>\n",
       "    </tr>\n",
       "    <tr>\n",
       "      <th>7</th>\n",
       "      <td>V8</td>\n",
       "      <td>0.018894</td>\n",
       "    </tr>\n",
       "  </tbody>\n",
       "</table>\n",
       "</div>"
      ],
      "text/plain": [
       "   feature  feature importance\n",
       "13     V14            0.750306\n",
       "3       V4            0.038190\n",
       "11     V12            0.026974\n",
       "9      V10            0.025112\n",
       "7       V8            0.018894"
      ]
     },
     "execution_count": 37,
     "metadata": {},
     "output_type": "execute_result"
    }
   ],
   "source": [
    "fi = pd.concat([pd.DataFrame(Xtrain.columns),pd.DataFrame(dtc.feature_importances_)]\n",
    "               ,axis = 1\n",
    "               ,ignore_index = True\n",
    "              )\n",
    "fi.columns = ['feature','feature importance']\n",
    "fi.sort_values(by = 'feature importance', ascending = False)[:5]   #前5个重要特征"
   ]
  },
  {
   "cell_type": "code",
   "execution_count": null,
   "metadata": {},
   "outputs": [],
   "source": []
  }
 ],
 "metadata": {
  "kernelspec": {
   "display_name": "Python 3",
   "language": "python",
   "name": "python3"
  },
  "language_info": {
   "codemirror_mode": {
    "name": "ipython",
    "version": 3
   },
   "file_extension": ".py",
   "mimetype": "text/x-python",
   "name": "python",
   "nbconvert_exporter": "python",
   "pygments_lexer": "ipython3",
   "version": "3.8.2"
  }
 },
 "nbformat": 4,
 "nbformat_minor": 4
}
