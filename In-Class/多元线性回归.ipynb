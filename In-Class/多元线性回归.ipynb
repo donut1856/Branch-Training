{
 "cells": [
  {
   "cell_type": "markdown",
   "metadata": {},
   "source": [
    "## 导入所需的包"
   ]
  },
  {
   "cell_type": "code",
   "execution_count": 1,
   "metadata": {},
   "outputs": [],
   "source": [
    "import numpy as np                                         #pandas基于numpy运算\n",
    "import pandas as pd                                        #引入数据类型DataFrame\n",
    "from sklearn.linear_model import LinearRegression as LR   #线性回归\n",
    "from sklearn.preprocessing import StandardScaler          #标准化\n",
    "from sklearn.model_selection import train_test_split      #划分训练集和测试集\n",
    "from sklearn.model_selection import cross_val_score       #交叉验证\n",
    "from sklearn.metrics import mean_squared_error            #均方误差\n",
    "\n",
    "fch = pd.read_csv(r'C:\\Users\\Cracker Park\\Desktop\\培训材料\\dataset\\fch.csv')   #加利福尼亚房价数据"
   ]
  },
  {
   "cell_type": "markdown",
   "metadata": {},
   "source": [
    "## 数据探查"
   ]
  },
  {
   "cell_type": "code",
   "execution_count": 2,
   "metadata": {},
   "outputs": [
    {
     "data": {
      "text/plain": [
       "(20640, 9)"
      ]
     },
     "execution_count": 2,
     "metadata": {},
     "output_type": "execute_result"
    }
   ],
   "source": [
    "fch.shape"
   ]
  },
  {
   "cell_type": "code",
   "execution_count": 3,
   "metadata": {},
   "outputs": [],
   "source": [
    "fch.to_csv('fch.csv')"
   ]
  },
  {
   "cell_type": "code",
   "execution_count": 4,
   "metadata": {
    "scrolled": true
   },
   "outputs": [
    {
     "name": "stdout",
     "output_type": "stream",
     "text": [
      "<class 'pandas.core.frame.DataFrame'>\n",
      "RangeIndex: 20640 entries, 0 to 20639\n",
      "Data columns (total 9 columns):\n",
      " #   Column       Non-Null Count  Dtype  \n",
      "---  ------       --------------  -----  \n",
      " 0   MedInc       20640 non-null  float64\n",
      " 1   HouseAge     20640 non-null  int64  \n",
      " 2   AveRooms     20640 non-null  float64\n",
      " 3   AveBedrms    20640 non-null  float64\n",
      " 4   Population   20640 non-null  int64  \n",
      " 5   AveOccup     20640 non-null  float64\n",
      " 6   Latitude     20640 non-null  float64\n",
      " 7   Longitude    20640 non-null  float64\n",
      " 8   MedHouseVal  20640 non-null  float64\n",
      "dtypes: float64(7), int64(2)\n",
      "memory usage: 1.4 MB\n"
     ]
    },
    {
     "data": {
      "text/html": [
       "<div>\n",
       "<style scoped>\n",
       "    .dataframe tbody tr th:only-of-type {\n",
       "        vertical-align: middle;\n",
       "    }\n",
       "\n",
       "    .dataframe tbody tr th {\n",
       "        vertical-align: top;\n",
       "    }\n",
       "\n",
       "    .dataframe thead th {\n",
       "        text-align: right;\n",
       "    }\n",
       "</style>\n",
       "<table border=\"1\" class=\"dataframe\">\n",
       "  <thead>\n",
       "    <tr style=\"text-align: right;\">\n",
       "      <th></th>\n",
       "      <th>count</th>\n",
       "      <th>mean</th>\n",
       "      <th>std</th>\n",
       "      <th>min</th>\n",
       "      <th>25%</th>\n",
       "      <th>50%</th>\n",
       "      <th>75%</th>\n",
       "      <th>max</th>\n",
       "    </tr>\n",
       "  </thead>\n",
       "  <tbody>\n",
       "    <tr>\n",
       "      <th>该街区住户的收入中位数</th>\n",
       "      <td>20640.0</td>\n",
       "      <td>3.870671</td>\n",
       "      <td>1.899822</td>\n",
       "      <td>0.499900</td>\n",
       "      <td>2.563400</td>\n",
       "      <td>3.534800</td>\n",
       "      <td>4.743250</td>\n",
       "      <td>15.000100</td>\n",
       "    </tr>\n",
       "    <tr>\n",
       "      <th>该街区房屋使用年代的中位数</th>\n",
       "      <td>20640.0</td>\n",
       "      <td>28.639486</td>\n",
       "      <td>12.585558</td>\n",
       "      <td>1.000000</td>\n",
       "      <td>18.000000</td>\n",
       "      <td>29.000000</td>\n",
       "      <td>37.000000</td>\n",
       "      <td>52.000000</td>\n",
       "    </tr>\n",
       "    <tr>\n",
       "      <th>该街区平均的房间数目</th>\n",
       "      <td>20640.0</td>\n",
       "      <td>5.429000</td>\n",
       "      <td>2.474173</td>\n",
       "      <td>0.846154</td>\n",
       "      <td>4.440716</td>\n",
       "      <td>5.229129</td>\n",
       "      <td>6.052381</td>\n",
       "      <td>141.909091</td>\n",
       "    </tr>\n",
       "    <tr>\n",
       "      <th>该街区平均的卧室数目</th>\n",
       "      <td>20640.0</td>\n",
       "      <td>1.096675</td>\n",
       "      <td>0.473911</td>\n",
       "      <td>0.333333</td>\n",
       "      <td>1.006079</td>\n",
       "      <td>1.048780</td>\n",
       "      <td>1.099526</td>\n",
       "      <td>34.066667</td>\n",
       "    </tr>\n",
       "    <tr>\n",
       "      <th>街区人口</th>\n",
       "      <td>20640.0</td>\n",
       "      <td>1425.476744</td>\n",
       "      <td>1132.462122</td>\n",
       "      <td>3.000000</td>\n",
       "      <td>787.000000</td>\n",
       "      <td>1166.000000</td>\n",
       "      <td>1725.000000</td>\n",
       "      <td>35682.000000</td>\n",
       "    </tr>\n",
       "    <tr>\n",
       "      <th>平均入住率</th>\n",
       "      <td>20640.0</td>\n",
       "      <td>3.070655</td>\n",
       "      <td>10.386050</td>\n",
       "      <td>0.692308</td>\n",
       "      <td>2.429741</td>\n",
       "      <td>2.818116</td>\n",
       "      <td>3.282261</td>\n",
       "      <td>1243.333333</td>\n",
       "    </tr>\n",
       "    <tr>\n",
       "      <th>街区的纬度</th>\n",
       "      <td>20640.0</td>\n",
       "      <td>35.631861</td>\n",
       "      <td>2.135952</td>\n",
       "      <td>32.540000</td>\n",
       "      <td>33.930000</td>\n",
       "      <td>34.260000</td>\n",
       "      <td>37.710000</td>\n",
       "      <td>41.950000</td>\n",
       "    </tr>\n",
       "    <tr>\n",
       "      <th>街区的经度</th>\n",
       "      <td>20640.0</td>\n",
       "      <td>-119.569704</td>\n",
       "      <td>2.003532</td>\n",
       "      <td>-124.350000</td>\n",
       "      <td>-121.800000</td>\n",
       "      <td>-118.490000</td>\n",
       "      <td>-118.010000</td>\n",
       "      <td>-114.310000</td>\n",
       "    </tr>\n",
       "    <tr>\n",
       "      <th>房屋价格</th>\n",
       "      <td>20640.0</td>\n",
       "      <td>2.068558</td>\n",
       "      <td>1.153956</td>\n",
       "      <td>0.149990</td>\n",
       "      <td>1.196000</td>\n",
       "      <td>1.797000</td>\n",
       "      <td>2.647250</td>\n",
       "      <td>5.000010</td>\n",
       "    </tr>\n",
       "  </tbody>\n",
       "</table>\n",
       "</div>"
      ],
      "text/plain": [
       "                 count         mean          std         min         25%  \\\n",
       "该街区住户的收入中位数    20640.0     3.870671     1.899822    0.499900    2.563400   \n",
       "该街区房屋使用年代的中位数  20640.0    28.639486    12.585558    1.000000   18.000000   \n",
       "该街区平均的房间数目     20640.0     5.429000     2.474173    0.846154    4.440716   \n",
       "该街区平均的卧室数目     20640.0     1.096675     0.473911    0.333333    1.006079   \n",
       "街区人口           20640.0  1425.476744  1132.462122    3.000000  787.000000   \n",
       "平均入住率          20640.0     3.070655    10.386050    0.692308    2.429741   \n",
       "街区的纬度          20640.0    35.631861     2.135952   32.540000   33.930000   \n",
       "街区的经度          20640.0  -119.569704     2.003532 -124.350000 -121.800000   \n",
       "房屋价格           20640.0     2.068558     1.153956    0.149990    1.196000   \n",
       "\n",
       "                       50%          75%           max  \n",
       "该街区住户的收入中位数       3.534800     4.743250     15.000100  \n",
       "该街区房屋使用年代的中位数    29.000000    37.000000     52.000000  \n",
       "该街区平均的房间数目        5.229129     6.052381    141.909091  \n",
       "该街区平均的卧室数目        1.048780     1.099526     34.066667  \n",
       "街区人口           1166.000000  1725.000000  35682.000000  \n",
       "平均入住率             2.818116     3.282261   1243.333333  \n",
       "街区的纬度            34.260000    37.710000     41.950000  \n",
       "街区的经度          -118.490000  -118.010000   -114.310000  \n",
       "房屋价格              1.797000     2.647250      5.000010  "
      ]
     },
     "execution_count": 4,
     "metadata": {},
     "output_type": "execute_result"
    }
   ],
   "source": [
    "\n",
    "\n",
    "fch.shape                                    #多少行多少列\n",
    "fch.info()                                   #数据类型\n",
    "fch.duplicated().sum()                       #统计重复记录\n",
    "\n",
    "\n",
    "#更改为中文列名\n",
    "fch.columns = ['该街区住户的收入中位数','该街区房屋使用年代的中位数'\n",
    "               ,'该街区平均的房间数目','该街区平均的卧室数目'\n",
    "               ,'街区人口' ,'平均入住率'\n",
    "               ,'街区的纬度','街区的经度','房屋价格']\n",
    "fch.columns\n",
    "\n",
    "fch.describe().T                             #统计各列数据分布\n",
    "\n",
    "\n"
   ]
  },
  {
   "cell_type": "code",
   "execution_count": 5,
   "metadata": {},
   "outputs": [
    {
     "data": {
      "text/plain": [
       "\"fch.rename(columns = {'MedInc' :'该街区住户的收入中位数'\\n                    ,'HouseAge':'该街区房屋使用年代的中位数'\\n                    ,'AveRooms':'该街区平均的房间数目'\\n                    ,'AveBedrms':'该街区平均的卧室数目'\\n                    ,'Population':'街区人口'\\n                    ,'AveOccup':'平均入住率'\\n                    ,'Latitude':'街区的纬度'\\n                    ,'Longitude':'街区的经度'\\n                    ,'MedHouseVal':'房屋价格'}, inplace = True)\\nfch.columns\""
      ]
     },
     "execution_count": 5,
     "metadata": {},
     "output_type": "execute_result"
    }
   ],
   "source": [
    "'''fch.rename(columns = {'MedInc' :'该街区住户的收入中位数'\n",
    "                    ,'HouseAge':'该街区房屋使用年代的中位数'\n",
    "                    ,'AveRooms':'该街区平均的房间数目'\n",
    "                    ,'AveBedrms':'该街区平均的卧室数目'\n",
    "                    ,'Population':'街区人口'\n",
    "                    ,'AveOccup':'平均入住率'\n",
    "                    ,'Latitude':'街区的纬度'\n",
    "                    ,'Longitude':'街区的经度'\n",
    "                    ,'MedHouseVal':'房屋价格'}, inplace = True)\n",
    "fch.columns'''"
   ]
  },
  {
   "cell_type": "markdown",
   "metadata": {},
   "source": [
    "## 建模"
   ]
  },
  {
   "cell_type": "code",
   "execution_count": 6,
   "metadata": {},
   "outputs": [
    {
     "data": {
      "text/plain": [
       "((14448, 8), (6192, 8))"
      ]
     },
     "execution_count": 6,
     "metadata": {},
     "output_type": "execute_result"
    }
   ],
   "source": [
    "#划分训练集和测试集\n",
    "\n",
    "x = fch.drop(columns = '房屋价格')\n",
    "y = fch['房屋价格']\n",
    "\n",
    "Xtrain, Xtest, Ytrain, Ytest = train_test_split(x, y, test_size = 0.3, random_state = 1912)\n",
    "Xtrain.shape, Xtest.shape"
   ]
  },
  {
   "cell_type": "code",
   "execution_count": 7,
   "metadata": {},
   "outputs": [
    {
     "data": {
      "text/plain": [
       "array([-0.48922052, -0.43335865, -0.8864377 , -0.39091641, -0.7479731 ,\n",
       "       -0.52980278, -0.28798456, -0.77326441, -0.64305557, -0.3275106 ])"
      ]
     },
     "execution_count": 7,
     "metadata": {},
     "output_type": "execute_result"
    }
   ],
   "source": [
    "\n",
    "reg = LR()                      #实例化\n",
    "reg = reg.fit(Xtrain, Ytrain)   #训练数据\n",
    "#调用模型接口接口\n",
    "reg.score(Xtest, Ytest)         \n",
    "reg.predict(Xtest)\n",
    "\n",
    "#查看均方误差\n",
    "\n",
    "yhat = reg.predict(Xtest)\n",
    "mean_squared_error(Ytest, yhat) \n",
    "\n",
    "#交叉验证\n",
    "cross_val_score(reg, x, y, cv = 10, scoring = \"neg_mean_squared_error\")\n",
    "\n"
   ]
  },
  {
   "cell_type": "code",
   "execution_count": 8,
   "metadata": {},
   "outputs": [
    {
     "data": {
      "text/plain": [
       "[('该街区住户的收入中位数', 0.4320666224747579),\n",
       " ('该街区房屋使用年代的中位数', 0.009280235180097624),\n",
       " ('该街区平均的房间数目', -0.09764121410008449),\n",
       " ('该街区平均的卧室数目', 0.606264674799182),\n",
       " ('街区人口', -2.917683007778657e-06),\n",
       " ('平均入住率', -0.004216926637883201),\n",
       " ('街区的纬度', -0.4251335258834274),\n",
       " ('街区的经度', -0.43584811939078466)]"
      ]
     },
     "execution_count": 8,
     "metadata": {},
     "output_type": "execute_result"
    }
   ],
   "source": [
    "#截距\n",
    "\n",
    "reg.intercept_\n",
    "\n",
    "#特征对应的系数\n",
    "\n",
    "[*zip(Xtrain.columns, reg.coef_)]"
   ]
  },
  {
   "cell_type": "code",
   "execution_count": 9,
   "metadata": {},
   "outputs": [
    {
     "data": {
      "text/plain": [
       "[('该街区住户的收入中位数', 0.8146300484184064),\n",
       " ('该街区房屋使用年代的中位数', 0.11685230857697466),\n",
       " ('该街区平均的房间数目', -0.25291616830423996),\n",
       " ('该街区平均的卧室数目', 0.3037691439790934),\n",
       " ('街区人口', -0.003416400143756421),\n",
       " ('平均入住率', -0.028991807937983304),\n",
       " ('街区的纬度', -0.9077263615749165),\n",
       " ('街区的经度', -0.8740309143622402)]"
      ]
     },
     "execution_count": 9,
     "metadata": {},
     "output_type": "execute_result"
    }
   ],
   "source": [
    "\n",
    "\n",
    "#系数不好做比较，标准化特征\n",
    "\n",
    "scaler = StandardScaler()             #实例化\n",
    "scaler.fit(Xtrain)                    #训练\n",
    "Xtrain_ssd = scaler.transform(Xtrain) #标准化训练集X\n",
    "Xtest_ssd = scaler.transform(Xtest)   #标准化测试集X\n",
    "\n",
    "#重新训练模型\n",
    "\n",
    "reg_ssd = LR()\n",
    "reg_ssd = reg.fit(Xtrain_ssd, Ytrain)\n",
    "\n",
    "#调用接口\n",
    "reg_ssd.score(Xtest_ssd, Ytest)\n",
    "\n",
    "yhat_ssd = reg.predict(Xtest_ssd)\n",
    "mean_squared_error(Ytest, yhat_ssd) \n",
    "\n",
    "#查看属性\n",
    "[*zip(Xtrain.columns, reg_ssd.coef_)]\n",
    "\n",
    "\n",
    "\n"
   ]
  },
  {
   "cell_type": "markdown",
   "metadata": {},
   "source": [
    "## 未拟合了足够的信息?"
   ]
  },
  {
   "cell_type": "markdown",
   "metadata": {},
   "source": [
    "<img src=\"./underfitting.jpg\" style=\"zoom:80%\" />"
   ]
  },
  {
   "cell_type": "code",
   "execution_count": 10,
   "metadata": {},
   "outputs": [
    {
     "data": {
      "image/png": "[encoded data removed]",
      "text/plain": [
       "<Figure size 432x288 with 1 Axes>"
      ]
     },
     "metadata": {
      "needs_background": "light"
     },
     "output_type": "display_data"
    }
   ],
   "source": [
    "import matplotlib.pyplot as plt \n",
    "sorted(Ytest)\n",
    "\n",
    "\n",
    "plt.plot(range(len(Ytest)),sorted(Ytest),c=\"orange\",label= \"Actual\") \n",
    "plt.plot(range(len(yhat)),sorted(yhat),c=\"red\",label = \"Predict\") \n",
    "\n",
    "plt.legend()\n",
    "plt.show()"
   ]
  },
  {
   "cell_type": "markdown",
   "metadata": {},
   "source": [
    "### 岭回归"
   ]
  },
  {
   "cell_type": "code",
   "execution_count": 11,
   "metadata": {},
   "outputs": [
    {
     "data": {
      "text/plain": [
       "[('该街区住户的收入中位数', 0.8146115777014993),\n",
       " ('该街区房屋使用年代的中位数', 0.1168969838816438),\n",
       " ('该街区平均的房间数目', -0.2528195845515246),\n",
       " ('该街区平均的卧室数目', 0.3036422688107683),\n",
       " ('街区人口', -0.0034012943848666737),\n",
       " ('平均入住率', -0.028997231219767328),\n",
       " ('街区的纬度', -0.9072851565693067),\n",
       " ('街区的经度', -0.8735855748503963)]"
      ]
     },
     "execution_count": 11,
     "metadata": {},
     "output_type": "execute_result"
    }
   ],
   "source": [
    "\n",
    "from sklearn.linear_model import Ridge                  #从线性模块中导入岭回归类\n",
    "\n",
    "reg_ridge = Ridge(alpha = 0.5 )                          #实例化，设置正则项系数0.5\n",
    "reg_ridge = reg_ridge.fit(Xtrain_ssd, Ytrain)            #拟合训练集数据\n",
    "reg_ridge.score(Xtest_ssd, Ytest)                        #调用socre接口返回R2\n",
    "\n",
    "mean_squared_error(Ytest, reg_ridge.predict(Xtest_ssd))  #查看均方误差\n",
    "[*zip(Xtrain.columns, reg_ridge.coef_)]                  #查看特征对应的相关系数\n"
   ]
  },
  {
   "cell_type": "code",
   "execution_count": 12,
   "metadata": {},
   "outputs": [
    {
     "data": {
      "image/png": "[encoded data removed]",
      "text/plain": [
       "<Figure size 432x288 with 1 Axes>"
      ]
     },
     "metadata": {
      "needs_background": "light"
     },
     "output_type": "display_data"
    }
   ],
   "source": [
    "\n",
    "\n",
    "import matplotlib.pyplot as plt \n",
    "\n",
    "alpharange = np.arange(1,1001,100)\n",
    "ridge, lr = [], []\n",
    "\n",
    "for alpha in alpharange: \n",
    "    \n",
    "    reg_ridge = Ridge(alpha=alpha)\n",
    "    linear = LR()\n",
    "    regs = cross_val_score(reg_ridge,x,y,cv = 5).mean() \n",
    "    linears = cross_val_score(linear,x,y,cv = 5).mean() \n",
    "    ridge.append(regs)\n",
    "    lr.append(linears) \n",
    "    \n",
    "plt.plot(alpharange,ridge,color=\"red\",label=\"Ridge\") \n",
    "plt.plot(alpharange,lr,color=\"orange\",label=\"LR\") \n",
    "plt.title(\"Mean\")\n",
    "plt.legend() \n",
    "plt.show()\n",
    "\n",
    "#细化一下学习曲线\n",
    "#alpharange = np.arange(1,201,10)\n",
    "\n"
   ]
  },
  {
   "cell_type": "code",
   "execution_count": 13,
   "metadata": {},
   "outputs": [
    {
     "data": {
      "image/png": "[encoded data removed]",
      "text/plain": [
       "<Figure size 432x288 with 1 Axes>"
      ]
     },
     "metadata": {
      "needs_background": "light"
     },
     "output_type": "display_data"
    }
   ],
   "source": [
    "\n",
    "\n",
    "\n",
    "#不同正则项系数α下模型得方差变化\n",
    "\n",
    "alpharange = np.arange(1,201,10)\n",
    "ridge, lr = [], []\n",
    "for alpha in alpharange:\n",
    "    reg = Ridge(alpha=alpha)\n",
    "    linear = LR()\n",
    "    varR = cross_val_score(reg,x,y,cv=5).var() \n",
    "    varLR = cross_val_score(linear,x,y,cv=5).var() \n",
    "    ridge.append(varR)\n",
    "    lr.append(varLR)\n",
    "\n",
    "    \n",
    "plt.plot(alpharange,ridge,color=\"red\",label=\"Ridge\")\n",
    "plt.plot(alpharange,lr,color=\"orange\",label=\"LR\") \n",
    "plt.title(\"Variance\")\n",
    "plt.legend()\n",
    "plt.show()\n",
    "\n",
    "\n"
   ]
  },
  {
   "cell_type": "markdown",
   "metadata": {},
   "source": [
    "### Lasso"
   ]
  },
  {
   "cell_type": "code",
   "execution_count": 14,
   "metadata": {},
   "outputs": [
    {
     "data": {
      "text/plain": [
       "[('该街区住户的收入中位数', 0.28885786149329357),\n",
       " ('该街区房屋使用年代的中位数', 0.0),\n",
       " ('该街区平均的房间数目', 0.0),\n",
       " ('该街区平均的卧室数目', -0.0),\n",
       " ('街区人口', -0.0),\n",
       " ('平均入住率', -0.0),\n",
       " ('街区的纬度', -0.0),\n",
       " ('街区的经度', -0.0)]"
      ]
     },
     "execution_count": 14,
     "metadata": {},
     "output_type": "execute_result"
    }
   ],
   "source": [
    "\n",
    "\n",
    "from sklearn.linear_model import Lasso                  #从线性模块中导入Lasso\n",
    "\n",
    "reg_lasso = Lasso(alpha = 0.5)                           #实例化，设置正则项系数0.5\n",
    "reg_lasso = reg_lasso.fit(Xtrain_ssd, Ytrain)            #拟合训练集数据\n",
    "reg_lasso.score(Xtest_ssd, Ytest)                        #调用socre接口返回R2\n",
    "\n",
    "mean_squared_error(Ytest, reg_lasso.predict(Xtest_ssd))  #查看均方误差\n",
    "[*zip(Xtrain.columns, reg_lasso.coef_)]                  #查看特征对应的相关系数\n",
    "\n"
   ]
  },
  {
   "cell_type": "code",
   "execution_count": 15,
   "metadata": {},
   "outputs": [
    {
     "data": {
      "image/png": "[encoded data removed]",
      "text/plain": [
       "<Figure size 432x288 with 1 Axes>"
      ]
     },
     "metadata": {
      "needs_background": "light"
     },
     "output_type": "display_data"
    }
   ],
   "source": [
    "\n",
    "\n",
    "alpharange = np.arange(1,1001,100)\n",
    "lasso, lr = [], []\n",
    "\n",
    "for alpha in alpharange: \n",
    "    \n",
    "    reg_lasso = Lasso(alpha=alpha)\n",
    "    linear = LR()\n",
    "    MeanLasso = cross_val_score(reg_lasso,x,y,cv = 5).mean() \n",
    "    MeanLinears = cross_val_score(linear,x,y,cv = 5).mean() \n",
    "    lasso.append(MeanLasso)\n",
    "    lr.append(MeanLinears) \n",
    "    \n",
    "plt.plot(alpharange,lasso,color=\"red\",label=\"Lasso\") \n",
    "plt.plot(alpharange,lr,color=\"orange\",label=\"LR\") \n",
    "plt.title(\"Mean\")\n",
    "plt.legend() \n",
    "plt.show()\n",
    "\n",
    "#细化一下学习曲线\n",
    "#alpharange = np.arange(0.001,1,0.01)\n",
    "\n",
    "\n"
   ]
  },
  {
   "cell_type": "code",
   "execution_count": 16,
   "metadata": {},
   "outputs": [
    {
     "data": {
      "image/png": "[encoded data removed]",
      "text/plain": [
       "<Figure size 432x288 with 1 Axes>"
      ]
     },
     "metadata": {
      "needs_background": "light"
     },
     "output_type": "display_data"
    }
   ],
   "source": [
    "\n",
    "#不同正则项系数α下模型得方差变化\n",
    "\n",
    "alpharange = np.arange(0.001,1,0.01)\n",
    "lasso, lr = [], []\n",
    "for alpha in alpharange:\n",
    "    reg = Lasso(alpha=alpha)\n",
    "    linear = LR()\n",
    "    varR = cross_val_score(reg,x,y,cv=5).var() \n",
    "    varLR = cross_val_score(linear,x,y,cv=5).var() \n",
    "    lasso.append(varR)\n",
    "    lr.append(varLR)\n",
    "\n",
    "    \n",
    "plt.plot(alpharange,lasso,color=\"red\",label=\"Lasso\")\n",
    "plt.plot(alpharange,lr,color=\"orange\",label=\"LR\") \n",
    "plt.title(\"Variance\")\n",
    "plt.legend()\n",
    "plt.show()\n"
   ]
  },
  {
   "cell_type": "markdown",
   "metadata": {},
   "source": [
    "### L1 vs. L2"
   ]
  },
  {
   "cell_type": "markdown",
   "metadata": {},
   "source": [
    "<img src=\"./L1_vs_L2.jpg\" style=\"zoom:100%\" />"
   ]
  },
  {
   "cell_type": "markdown",
   "metadata": {},
   "source": [
    "## 多项式回归"
   ]
  },
  {
   "cell_type": "code",
   "execution_count": 17,
   "metadata": {},
   "outputs": [],
   "source": [
    "from sklearn.preprocessing import PolynomialFeatures "
   ]
  },
  {
   "cell_type": "code",
   "execution_count": 18,
   "metadata": {},
   "outputs": [],
   "source": [
    "poly = PolynomialFeatures(degree=2).fit(Xtrain_ssd)"
   ]
  },
  {
   "cell_type": "code",
   "execution_count": 19,
   "metadata": {},
   "outputs": [],
   "source": [
    "x_train_poly = poly.transform(Xtrain_ssd)\n",
    "x_test_poly = poly.transform(Xtest_ssd)"
   ]
  },
  {
   "cell_type": "code",
   "execution_count": 20,
   "metadata": {},
   "outputs": [],
   "source": [
    "reg_ploy = LR().fit(x_train_poly,Ytrain) \n",
    "yhat_ploy = reg_ploy.predict(x_test_poly)"
   ]
  },
  {
   "cell_type": "code",
   "execution_count": 21,
   "metadata": {},
   "outputs": [
    {
     "data": {
      "text/plain": [
       "0.45048752301767925"
      ]
     },
     "execution_count": 21,
     "metadata": {},
     "output_type": "execute_result"
    }
   ],
   "source": [
    "reg_ploy.score(x_test_poly,Ytest)"
   ]
  },
  {
   "cell_type": "code",
   "execution_count": 22,
   "metadata": {},
   "outputs": [
    {
     "data": {
      "text/plain": [
       "0.6793213147467347"
      ]
     },
     "execution_count": 22,
     "metadata": {},
     "output_type": "execute_result"
    }
   ],
   "source": [
    "reg_ploy.score(x_train_poly,Ytrain)"
   ]
  },
  {
   "cell_type": "code",
   "execution_count": 23,
   "metadata": {},
   "outputs": [
    {
     "data": {
      "text/plain": [
       "array([1.54786319, 2.54596469, 2.68931286, ..., 0.8032664 , 1.55785352,\n",
       "       1.27687031])"
      ]
     },
     "execution_count": 23,
     "metadata": {},
     "output_type": "execute_result"
    }
   ],
   "source": [
    "yhat_ploy"
   ]
  },
  {
   "cell_type": "code",
   "execution_count": 24,
   "metadata": {},
   "outputs": [
    {
     "data": {
      "text/plain": [
       "0.744404932283472"
      ]
     },
     "execution_count": 24,
     "metadata": {},
     "output_type": "execute_result"
    }
   ],
   "source": [
    "mean_squared_error(Ytest, yhat_ploy)"
   ]
  },
  {
   "cell_type": "code",
   "execution_count": 25,
   "metadata": {},
   "outputs": [
    {
     "data": {
      "text/plain": [
       "array([-4.67411619e-16,  9.01264753e-01,  1.30098246e-01, -4.05730450e-01,\n",
       "        5.69648764e-01,  3.85103249e-02, -1.01766385e+00, -1.29090863e+00,\n",
       "       -1.18123291e+00, -1.24228156e-01,  4.27505835e-02,  2.76619904e-01,\n",
       "       -2.15098584e-01,  1.14972644e-01, -3.09156439e-02, -6.44464322e-01,\n",
       "       -5.77830367e-01,  3.41564976e-02, -2.04784108e-02,  5.75610379e-02,\n",
       "        4.05316885e-02, -1.53354090e-01, -2.63156349e-01, -2.46179393e-01,\n",
       "        3.63838886e-02, -6.57219862e-02, -1.91844524e-01,  5.75580688e-01,\n",
       "        5.12161470e-01,  4.59988632e-01,  2.90824754e-02,  2.83388420e-01,\n",
       "       -3.82983999e-01, -4.67369635e-01, -4.04356235e-01,  3.77336262e-03,\n",
       "        1.29907275e-01,  3.46748804e-02,  1.44643885e-02,  3.06767169e-03,\n",
       "        3.50269845e-01,  2.62469634e-01,  2.83264942e-01,  4.56988128e-01,\n",
       "        1.58584863e-01])"
      ]
     },
     "execution_count": 25,
     "metadata": {},
     "output_type": "execute_result"
    }
   ],
   "source": [
    "reg_ploy.coef_"
   ]
  },
  {
   "cell_type": "code",
   "execution_count": null,
   "metadata": {},
   "outputs": [],
   "source": []
  }
 ],
 "metadata": {
  "kernelspec": {
   "display_name": "Python 3",
   "language": "python",
   "name": "python3"
  },
  "language_info": {
   "codemirror_mode": {
    "name": "ipython",
    "version": 3
   },
   "file_extension": ".py",
   "mimetype": "text/x-python",
   "name": "python",
   "nbconvert_exporter": "python",
   "pygments_lexer": "ipython3",
   "version": "3.8.5"
  }
 },
 "nbformat": 4,
 "nbformat_minor": 4
}
