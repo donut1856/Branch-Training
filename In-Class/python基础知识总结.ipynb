{
 "cells": [
  {
   "cell_type": "markdown",
   "metadata": {},
   "source": [
    "## 1.数据：是一切数据运行的原材料（输入数据——程序——输出数据（结果））\n",
    "### 1.1变量\n",
    "#### ● python中的变量不需要声明。每个变量在使用前必须赋值，变量赋值之后该变量才会被创建。\n",
    "#### ● python中，变量就是变量，没有类型，我们所说的”类型”是变量所指的内存中对象的类型。\n",
    "#### ● 等号（=）用于变量赋值。\n",
    "#### ● 等号（=）运算符左边是一个变量名，右边是存储在该变量中的值"
   ]
  },
  {
   "cell_type": "code",
   "execution_count": 1,
   "metadata": {
    "ExecuteTime": {
     "end_time": "2021-07-02T00:16:58.493957Z",
     "start_time": "2021-07-02T00:16:58.490129Z"
    }
   },
   "outputs": [],
   "source": [
    "nameStr = '马云'  # 字符型变量（字符串）\n",
    "name = \"Grey\"  # 字符型变量（字符串）\n",
    "counter = 100  # 整数型变量\n",
    "miles = 1000.5  # 浮点型变量"
   ]
  },
  {
   "cell_type": "markdown",
   "metadata": {
    "tags": []
   },
   "source": [
    "#### ● 多变量赋值\n",
    "#### python允许同时为多个变量赋值；也可为多个对象指定多个变量"
   ]
  },
  {
   "cell_type": "code",
   "execution_count": 7,
   "metadata": {
    "ExecuteTime": {
     "end_time": "2021-07-01T16:28:25.080312Z",
     "start_time": "2021-07-01T16:28:25.076585Z"
    }
   },
   "outputs": [],
   "source": [
    "a = b = c = 1\n",
    "a, b, c = 1, 2, \"Grey\""
   ]
  },
  {
   "cell_type": "markdown",
   "metadata": {},
   "source": [
    "### 1.2注释\n",
    "#### python中单行注释以#开头，多行注释用三个单引号'''或者三个双引号\"\"\"将其注释括起来。"
   ]
  },
  {
   "cell_type": "code",
   "execution_count": 6,
   "metadata": {},
   "outputs": [],
   "source": [
    "# 这是单行注释"
   ]
  },
  {
   "cell_type": "code",
   "execution_count": 7,
   "metadata": {},
   "outputs": [
    {
     "data": {
      "text/plain": [
       "'\\n这是多行注释1\\n这是多行注释2\\n'"
      ]
     },
     "execution_count": 7,
     "metadata": {},
     "output_type": "execute_result"
    }
   ],
   "source": [
    "'''\n",
    "这是多行注释1\n",
    "这是多行注释2\n",
    "'''"
   ]
  },
  {
   "cell_type": "code",
   "execution_count": 8,
   "metadata": {},
   "outputs": [
    {
     "data": {
      "text/plain": [
       "'\\n这是多行注释1\\n这是多行注释2\\n'"
      ]
     },
     "execution_count": 8,
     "metadata": {},
     "output_type": "execute_result"
    }
   ],
   "source": [
    "\"\"\"\n",
    "这是多行注释1\n",
    "这是多行注释2\n",
    "\"\"\""
   ]
  },
  {
   "cell_type": "markdown",
   "metadata": {},
   "source": [
    "### 1.3数据类型\n",
    "#### 注意：字符串、数字、元祖是不可更改的对象\n",
    "#### 1.3.1字符串：\n",
    "#### ● python中的字符串用单引号（'）或者双引号（\"）括起来\n",
    "#### ● 字符串的截取语法：\n",
    "#### 变量[头下标:尾下标]"
   ]
  },
  {
   "cell_type": "markdown",
   "metadata": {},
   "source": [
    "#### ● 索引值以0为开始值，-1为从末尾的开始位置（从左往右以0开始，从右往左以-1开始）"
   ]
  },
  {
   "cell_type": "code",
   "execution_count": 24,
   "metadata": {
    "collapsed": true,
    "jupyter": {
     "outputs_hidden": true
    }
   },
   "outputs": [
    {
     "data": {
      "text/plain": [
       "'\\n\\n从后面的索引：    -6  -5  -4  -3  -2  -1\\n从前面的索引：     0   1   2   3   4   5\\n字符串：          a   b   c   d   e   f\\n从前面截取：      :  1   2   3   4   5  :\\n从后面截取：      : -5  -4  -3  -2  -1  :\\n                                  \\n'"
      ]
     },
     "execution_count": 24,
     "metadata": {},
     "output_type": "execute_result"
    }
   ],
   "source": [
    "\"\"\"\n",
    "\n",
    "从后面的索引：    -6  -5  -4  -3  -2  -1\n",
    "从前面的索引：     0   1   2   3   4   5\n",
    "字符串：          a   b   c   d   e   f\n",
    "从前面截取：      :  1   2   3   4   5  :\n",
    "从后面截取：      : -5  -4  -3  -2  -1  :\n",
    "                                  \n",
    "\"\"\""
   ]
  },
  {
   "cell_type": "code",
   "execution_count": 6,
   "metadata": {},
   "outputs": [
    {
     "name": "stdout",
     "output_type": "stream",
     "text": [
      "Chinano.1\n",
      "Chinano.\n",
      "C\n",
      "ina\n",
      "inano.1\n"
     ]
    }
   ],
   "source": [
    "string = \"Chinano.1\"\n",
    "print(string)  # 打印完整字符串\n",
    "print(string[0:-1])  # 打印第一个到倒数第二个的所有字符\n",
    "print(string[0])  # 打印字符串的第一个字符\n",
    "print(string[2:5])  # 打印从第三个开始到第五个字符的所有字符\n",
    "print(string[2:])  # 打印从第三个开始到最后个字符的所有字符"
   ]
  },
  {
   "cell_type": "markdown",
   "metadata": {},
   "source": [
    "#### ● 加号+是字符串的连接符，星号*表示复制当前字符串，紧跟的数字为复制次数"
   ]
  },
  {
   "cell_type": "code",
   "execution_count": 32,
   "metadata": {},
   "outputs": [
    {
     "name": "stdout",
     "output_type": "stream",
     "text": [
      "Chinano.1Chinano.1\n",
      "Chinano.1cool\n"
     ]
    }
   ],
   "source": [
    "print(string * 2)  # 输出字符串两次\n",
    "print(string + \"cool\")  # 拼接字符串"
   ]
  },
  {
   "cell_type": "markdown",
   "metadata": {},
   "source": [
    "#### ● python使用反斜杠\\转义特殊字符，如果想防止反斜杠发生转义，可在字符串前添加一个r，表示原始字符串"
   ]
  },
  {
   "cell_type": "code",
   "execution_count": 34,
   "metadata": {},
   "outputs": [
    {
     "name": "stdout",
     "output_type": "stream",
     "text": [
      "China\n",
      "o.1\n",
      "China\\no.1\n"
     ]
    }
   ],
   "source": [
    "print('China\\no.1')\n",
    "print(r'China\\no.1')  # 防止反斜杠\\转义"
   ]
  },
  {
   "cell_type": "markdown",
   "metadata": {},
   "source": [
    "#### ● python中的字符串不能改变\n",
    "#### ● 格式化字符串："
   ]
  },
  {
   "cell_type": "code",
   "execution_count": 37,
   "metadata": {},
   "outputs": [
    {
     "name": "stdout",
     "output_type": "stream",
     "text": [
      "我是洞拐，呼叫洞幺!\n"
     ]
    }
   ],
   "source": [
    "string_kr = \"我是%s，呼叫%s!\" % ('洞拐', '洞幺')\n",
    "print(string_kr)"
   ]
  },
  {
   "cell_type": "markdown",
   "metadata": {},
   "source": [
    "#### 1.3.2数字型：\n",
    "#### ● 包括：int、float、bool、complex\n",
    "#### ● 内置的type()函数可以查询变量所指对象的类型"
   ]
  },
  {
   "cell_type": "code",
   "execution_count": 39,
   "metadata": {},
   "outputs": [
    {
     "name": "stdout",
     "output_type": "stream",
     "text": [
      "<class 'int'> <class 'float'> <class 'bool'> <class 'complex'>\n"
     ]
    }
   ],
   "source": [
    "a, b, c, d = 20, 5.5, True, 4+3j\n",
    "print(type(a), type(b), type(c), type(d))"
   ]
  },
  {
   "cell_type": "markdown",
   "metadata": {},
   "source": [
    "#### ● 当指定一个值时，Number对象就会被创建，可通过使用del语句删除单个或多个对象"
   ]
  },
  {
   "cell_type": "code",
   "execution_count": 48,
   "metadata": {},
   "outputs": [
    {
     "name": "stdout",
     "output_type": "stream",
     "text": [
      "1 10.9\n"
     ]
    }
   ],
   "source": [
    "num1, num2 = 1, 10.9\n",
    "print(num1, num2)"
   ]
  },
  {
   "cell_type": "code",
   "execution_count": 49,
   "metadata": {},
   "outputs": [
    {
     "ename": "NameError",
     "evalue": "name 'num1' is not defined",
     "output_type": "error",
     "traceback": [
      "\u001b[0;31m---------------------------------------------------------------------------\u001b[0m",
      "\u001b[0;31mNameError\u001b[0m                                 Traceback (most recent call last)",
      "\u001b[0;32m<ipython-input-49-67fe20bae2f2>\u001b[0m in \u001b[0;36m<module>\u001b[0;34m\u001b[0m\n\u001b[1;32m      1\u001b[0m \u001b[0;32mdel\u001b[0m \u001b[0mnum1\u001b[0m\u001b[0;34m,\u001b[0m \u001b[0mnum2\u001b[0m\u001b[0;34m\u001b[0m\u001b[0;34m\u001b[0m\u001b[0m\n\u001b[0;32m----> 2\u001b[0;31m \u001b[0mprint\u001b[0m\u001b[0;34m(\u001b[0m\u001b[0mnum1\u001b[0m\u001b[0;34m,\u001b[0m \u001b[0mnum2\u001b[0m\u001b[0;34m)\u001b[0m\u001b[0;34m\u001b[0m\u001b[0;34m\u001b[0m\u001b[0m\n\u001b[0m",
      "\u001b[0;31mNameError\u001b[0m: name 'num1' is not defined"
     ]
    }
   ],
   "source": [
    "del num1, num2\n",
    "print(num1, num2)"
   ]
  },
  {
   "cell_type": "markdown",
   "metadata": {},
   "source": [
    "#### ● 数值运算"
   ]
  },
  {
   "cell_type": "code",
   "execution_count": 53,
   "metadata": {},
   "outputs": [
    {
     "name": "stdout",
     "output_type": "stream",
     "text": [
      "9\n",
      "2.3\n",
      "21\n",
      "0.5\n",
      "0\n",
      "2\n",
      "32\n"
     ]
    }
   ],
   "source": [
    "a = 5 + 4  # 加法\n",
    "print(a)\n",
    "b = 4.3 - 2  # 减法\n",
    "print(b)\n",
    "c = 3 * 7  # 乘法\n",
    "print(c)\n",
    "d = 2 / 4  # 除法，得到浮点数\n",
    "print(d)\n",
    "e = 2 // 4  # 除法，得到整数\n",
    "print(e)\n",
    "f = 17 % 3  # 取余\n",
    "print(f)\n",
    "g = 2 ** 5  # 乘方\n",
    "print(g)"
   ]
  },
  {
   "cell_type": "markdown",
   "metadata": {},
   "source": [
    "#### 1.3.3列表（List）：\n",
    "#### ● 列表（List）是python中使用最频繁的数据类型。\n",
    "#### ● 列表可以完成大多数集合类的数据结构实现。列表中元素的类型可以不相同，支持数字，字符串甚至可以包含列表（嵌套）。\n",
    "#### ● 列表是写在方括号内[]之间，用逗号,分隔开的元素列表。\n",
    "#### ● 和字符串一样，列表可以被索引和截取，列表被截取后返回一个包含所需元素的新列表。索引值以0为开始值，-1为从末尾的开始位置。\n",
    "#### ● 加号+是列表连接符，星号*是重复操作。"
   ]
  },
  {
   "cell_type": "code",
   "execution_count": 56,
   "metadata": {},
   "outputs": [
    {
     "name": "stdout",
     "output_type": "stream",
     "text": [
      "['abcd', '789', 2.23, 'ChinaNo.1', '70.2']\n",
      "abcd\n",
      "['789', 2.23]\n",
      "[2.23, 'ChinaNo.1', '70.2']\n",
      "['abcd', '789', 2.23, 'ChinaNo.1', '70.2', 'abcd', '789', 2.23, 'ChinaNo.1', '70.2']\n",
      "['abcd', '789', 2.23, 'ChinaNo.1', '70.2', 123, 'ChinaNo.1']\n"
     ]
    }
   ],
   "source": [
    "list_sample = ['abcd', '789', 2.23, 'ChinaNo.1', '70.2']\n",
    "list_sample_small = [123, 'ChinaNo.1']\n",
    "print(list_sample)  # 打印完整列表\n",
    "print(list_sample[0])  # 打印列表第一个元素\n",
    "print(list_sample[1:3])  # 打印从第二个开始输出到第三个元素\n",
    "print(list_sample[2:])  # 打印从第三个元素开始的所有元素\n",
    "print(list_sample * 2)  # 打印两次列表\n",
    "print(list_sample + list_sample_small)  # 连接列表"
   ]
  },
  {
   "cell_type": "markdown",
   "metadata": {},
   "source": [
    "#### ● 更新列表"
   ]
  },
  {
   "cell_type": "code",
   "execution_count": 58,
   "metadata": {},
   "outputs": [
    {
     "name": "stdout",
     "output_type": "stream",
     "text": [
      "第三个元素是： 1949\n",
      "第三个元素是： 2008\n"
     ]
    }
   ],
   "source": [
    "list_sample = ['China', 'PRC', 1949, 2021]\n",
    "print(\"第三个元素是：\", list_sample[2])\n",
    "list_sample[2] = 2008\n",
    "print(\"第三个元素是：\", list_sample[2])"
   ]
  },
  {
   "cell_type": "markdown",
   "metadata": {},
   "source": [
    "#### ● 删除列表元素"
   ]
  },
  {
   "cell_type": "code",
   "execution_count": 60,
   "metadata": {},
   "outputs": [
    {
     "name": "stdout",
     "output_type": "stream",
     "text": [
      "原始列表： ['China', 'PRC', 1949, 2021]\n",
      "删除第三个元素后： ['China', 'PRC', 2021]\n"
     ]
    }
   ],
   "source": [
    "list_sample = ['China', 'PRC', 1949, 2021]\n",
    "print(\"原始列表：\", list_sample)\n",
    "del list_sample[2]\n",
    "print(\"删除第三个元素后：\", list_sample)"
   ]
  },
  {
   "cell_type": "markdown",
   "metadata": {},
   "source": [
    "#### ● 增加列表元素\n"
   ]
  },
  {
   "cell_type": "code",
   "execution_count": 61,
   "metadata": {},
   "outputs": [
    {
     "name": "stdout",
     "output_type": "stream",
     "text": [
      "原始列表： ['China', 'PRC', 1949, 2021]\n",
      "增加元素后： ['China', 'PRC', 1949, 2021, 'USA']\n"
     ]
    }
   ],
   "source": [
    "list_sample = ['China', 'PRC', 1949, 2021]\n",
    "print(\"原始列表：\", list_sample)\n",
    "list_sample.append('USA')\n",
    "print(\"增加元素后：\", list_sample)"
   ]
  },
  {
   "cell_type": "markdown",
   "metadata": {},
   "source": [
    "#### 1.3.4元祖（Tuple）：\n",
    "#### ● 元祖(tuple)与列表类似，不同之处在于元祖的元素不能修改。元祖写在小括号()里，元素之间用逗号,隔开。\n",
    "#### ● 元祖与字符串类似，可以被索引且下标索引从0开始，-1从末尾开始的位置。也可以进行截取。其实字符串可以视为一种特殊的元祖。"
   ]
  },
  {
   "cell_type": "markdown",
   "metadata": {},
   "source": [
    "#### 1.3.5集合（Set）：\n",
    "#### ● 集合（set)是由一个或多个形态各异的大小整体组成的，构成集合的事物或对象称作元素或是成员。\n",
    "#### ● 基本功能是进行成员关系测试或删除重复元素。\n",
    "#### ● 可以使用大括号{}或者set()函数创建集合，注意：创建一个空集合必须用set()而不是{},因为{}是用来创建一个空字典。"
   ]
  },
  {
   "cell_type": "code",
   "execution_count": 67,
   "metadata": {},
   "outputs": [
    {
     "name": "stdout",
     "output_type": "stream",
     "text": [
      "{1, 2, 'China', 'abc'}\n",
      "{1, 2, 'China', 'abc'}\n"
     ]
    }
   ],
   "source": [
    "set_sample = {1, 2, 'abc', 'China'}\n",
    "print(set_sample)\n",
    "set_sample = set((1, 2, 'abc', 'China'))\n",
    "print(set_sample)"
   ]
  },
  {
   "cell_type": "code",
   "execution_count": 6,
   "metadata": {},
   "outputs": [
    {
     "name": "stdout",
     "output_type": "stream",
     "text": [
      "{'张一鸣', '王健林', '马云', '黄铮', '刘强东', '马化腾'}\n"
     ]
    }
   ],
   "source": [
    "staff = {'马云', '马化腾', '王健林', '刘强东', '张一鸣', '黄铮', '刘强东'}\n",
    "print(staff)  # 打印出集合，重复元素会被自动删除"
   ]
  },
  {
   "cell_type": "code",
   "execution_count": 8,
   "metadata": {},
   "outputs": [
    {
     "name": "stdout",
     "output_type": "stream",
     "text": [
      "马云在集合中\n"
     ]
    }
   ],
   "source": [
    "# 元素测试\n",
    "if '马云' in staff:\n",
    "    print('马云在集合中')\n",
    "else:\n",
    "    print('马云不在集合中')"
   ]
  },
  {
   "cell_type": "code",
   "execution_count": 21,
   "metadata": {},
   "outputs": [
    {
     "name": "stdout",
     "output_type": "stream",
     "text": [
      "{'c', 'd', 'a', 'b', 'r'}\n",
      "{'c', 'l', 'a', 'z', 'm'}\n",
      "差集： {'b', 'd', 'r'}\n",
      "并集： {'c', 'l', 'm', 'd', 'a', 'b', 'z', 'r'}\n",
      "交集： {'c', 'a'}\n",
      "不同是存在的元素： {'r', 'l', 'b', 'm', 'd', 'z'}\n"
     ]
    }
   ],
   "source": [
    "# 集合运算\n",
    "a = set('abracadabra')\n",
    "b = set('alacazam')\n",
    "print(a)\n",
    "print(b)\n",
    "print('差集：', a - b)  # a和b的差集\n",
    "print('并集：', a | b)  # a和b的并集\n",
    "print('交集：', a & b)  # a和b的交集\n",
    "print('不同是存在的元素：', a ^ b)  # a和b中不同时存在的元素"
   ]
  },
  {
   "cell_type": "markdown",
   "metadata": {},
   "source": [
    "#### ● 增加元素\n",
    "#### 语法格式：\n",
    "#### s.add(x)\n",
    "#### s.update(x) : x 可以多个，用逗号,隔开"
   ]
  },
  {
   "cell_type": "code",
   "execution_count": 26,
   "metadata": {},
   "outputs": [
    {
     "name": "stdout",
     "output_type": "stream",
     "text": [
      "{'Tencent', 'ByteDance', 'Baidu', 'Alibaba'}\n"
     ]
    }
   ],
   "source": [
    "# 将元素x添加到集合s中，如元素已存在，则不进行任何操作。\n",
    "giant_set = set(('Baidu', 'Alibaba', 'Tencent'))\n",
    "giant_set.add('ByteDance')\n",
    "print(giant_set)"
   ]
  },
  {
   "cell_type": "code",
   "execution_count": 29,
   "metadata": {},
   "outputs": [
    {
     "name": "stdout",
     "output_type": "stream",
     "text": [
      "{3, 4, 'Baidu', 'Tencent', 'Alibaba'}\n",
      "{1, 2, 3, 4, 'Baidu', 5, 'Tencent', 'Alibaba'}\n"
     ]
    }
   ],
   "source": [
    "giant_set = set(('Baidu', 'Alibaba', 'Tencent'))\n",
    "giant_set.update({3, 4})\n",
    "print(giant_set)\n",
    "giant_set.update([1, 3], [2, 5])\n",
    "print(giant_set)"
   ]
  },
  {
   "cell_type": "markdown",
   "metadata": {},
   "source": [
    "#### ● 删除元素\n",
    "#### 语法格式：\n",
    "#### s.discard(x)\n",
    "#### s.remove(x) : 将元素x从集合s中移除，如元素不存在，则报错\n",
    "#### s.pop : 在交互模式，pop删除集合的第一个元素（排序后的集合的第一个元素）"
   ]
  },
  {
   "cell_type": "code",
   "execution_count": 58,
   "metadata": {},
   "outputs": [
    {
     "name": "stdout",
     "output_type": "stream",
     "text": [
      "{'Tencent', 'Baidu', 'Alibaba'}\n",
      "{'Baidu', 'Alibaba'}\n"
     ]
    }
   ],
   "source": [
    "giant_set = set(('Baidu', 'Alibaba', 'Tencent'))\n",
    "giant_set.discard('ByteDance')  # 不存在不会发生错误\n",
    "print(giant_set)\n",
    "giant_set.pop()\n",
    "print(giant_set)"
   ]
  },
  {
   "cell_type": "markdown",
   "metadata": {},
   "source": [
    "#### ● 查找元素\n",
    "#### 语法格式：\n",
    "#### x in s: 判断元素x是否在集合s中，存在则返回True，不存在则返回False"
   ]
  },
  {
   "cell_type": "code",
   "execution_count": 59,
   "metadata": {},
   "outputs": [
    {
     "data": {
      "text/plain": [
       "True"
      ]
     },
     "execution_count": 59,
     "metadata": {},
     "output_type": "execute_result"
    }
   ],
   "source": [
    "staff = {'马云', '马化腾', '王健林', '刘强东', '张一鸣', '黄铮', '刘强东'}\n",
    "'刘强东' in staff"
   ]
  },
  {
   "cell_type": "code",
   "execution_count": 60,
   "metadata": {},
   "outputs": [
    {
     "data": {
      "text/plain": [
       "False"
      ]
     },
     "execution_count": 60,
     "metadata": {},
     "output_type": "execute_result"
    }
   ],
   "source": [
    "'比尔盖茨' in staff"
   ]
  },
  {
   "cell_type": "markdown",
   "metadata": {},
   "source": [
    "#### ● 修改元素\n",
    "#### 先删除，再添加"
   ]
  },
  {
   "cell_type": "markdown",
   "metadata": {},
   "source": [
    "#### ● 计算元素个数\n",
    "#### 语法格式：len(s)，同时适用于字典，列表，元素"
   ]
  },
  {
   "cell_type": "code",
   "execution_count": 63,
   "metadata": {},
   "outputs": [
    {
     "data": {
      "text/plain": [
       "6"
      ]
     },
     "execution_count": 63,
     "metadata": {},
     "output_type": "execute_result"
    }
   ],
   "source": [
    "staff = {'马云', '马化腾', '王健林', '刘强东', '张一鸣', '黄铮', '刘强东'}\n",
    "len(staff)"
   ]
  },
  {
   "cell_type": "markdown",
   "metadata": {},
   "source": [
    "#### 1.3.6字典（Dictionary）：\n",
    "#### ● 列表是有序的对象集合，字典是无序的对象集合。区别在于：字典中的元素是通过键来存取的，而不是通过偏移存取的。\n",
    "#### ● 字典是一种映射类型，字典用{}标识，它是一个无序的键(key):值(value)的集合。\n",
    "#### ● 键(key)必须使用不可变类型。\n",
    "#### ● 在同一个字典中，键(key)必须是唯一的。"
   ]
  },
  {
   "cell_type": "markdown",
   "metadata": {},
   "source": [
    "#### ● 创建字典&查询元素"
   ]
  },
  {
   "cell_type": "code",
   "execution_count": 72,
   "metadata": {},
   "outputs": [
    {
     "name": "stdout",
     "output_type": "stream",
     "text": [
      "Tencent\n",
      "www.tencent.com\n",
      "{'company_name': 'Tencent', 'website': 'www.tencent.com', 'type': 'public', 'age': 22}\n",
      "dict_keys(['company_name', 'website', 'type', 'age'])\n",
      "dict_values(['Tencent', 'www.tencent.com', 'public', 22])\n"
     ]
    }
   ],
   "source": [
    "dict_sample = {}\n",
    "dict_sample['company_name'] = 'Tencent'\n",
    "dict_sample['website'] = 'www.tencent.com'\n",
    "whole_dict = {\n",
    "    'company_name': 'Tencent',\n",
    "    'website': 'www.tencent.com',\n",
    "    'type': 'public',\n",
    "    'age': 22\n",
    "}\n",
    "print(dict_sample['company_name'])  # 键为company_name的值\n",
    "print(dict_sample['website'])  # 键为website的值\n",
    "print(whole_dict)  # 打印完整的字典\n",
    "print(whole_dict.keys())  # 打印所有键\n",
    "print(whole_dict.values())  # 打印所有值"
   ]
  },
  {
   "cell_type": "markdown",
   "metadata": {},
   "source": [
    "#### ● 修改元素&增加元素"
   ]
  },
  {
   "cell_type": "code",
   "execution_count": 75,
   "metadata": {},
   "outputs": [
    {
     "name": "stdout",
     "output_type": "stream",
     "text": [
      "whole_dict['age']： 199\n",
      "whole_dict['founder']： Ma Huateng\n"
     ]
    }
   ],
   "source": [
    "whole_dict = {\n",
    "    'company_name': 'Tencent',\n",
    "    'website': 'www.tencent.com',\n",
    "    'type': 'public',\n",
    "    'age': 22\n",
    "}\n",
    "whole_dict['age'] = 199\n",
    "whole_dict['founder'] = 'Ma Huateng'\n",
    "print(\"whole_dict['age']：\", whole_dict['age'])\n",
    "print(\"whole_dict['founder']：\", whole_dict['founder'])"
   ]
  },
  {
   "cell_type": "markdown",
   "metadata": {},
   "source": [
    "#### ● 删除元素"
   ]
  },
  {
   "cell_type": "code",
   "execution_count": 76,
   "metadata": {},
   "outputs": [
    {
     "name": "stdout",
     "output_type": "stream",
     "text": [
      "{'website': 'www.tencent.com', 'type': 'public', 'age': 22}\n",
      "{}\n"
     ]
    }
   ],
   "source": [
    "whole_dict = {\n",
    "    'company_name': 'Tencent',\n",
    "    'website': 'www.tencent.com',\n",
    "    'type': 'public',\n",
    "    'age': 22\n",
    "}\n",
    "del whole_dict['company_name']  # 删除键‘company_name’\n",
    "print(whole_dict)\n",
    "whole_dict.clear()  # 删除字典\n",
    "print(whole_dict)"
   ]
  },
  {
   "cell_type": "markdown",
   "metadata": {},
   "source": [
    "## 2.条件判断\n",
    "#### Python条件语句是通过一条或多条语句的执行结果（True或False）来决定执行的代码块\n",
    "#### 2.1 if语句一般形式"
   ]
  },
  {
   "cell_type": "code",
   "execution_count": 77,
   "metadata": {},
   "outputs": [
    {
     "name": "stdout",
     "output_type": "stream",
     "text": [
      "成绩优异\n"
     ]
    }
   ],
   "source": [
    "# 单条件判断\n",
    "score = 98\n",
    "\n",
    "if score >= 95:\n",
    "    print('成绩优异')\n",
    "else:\n",
    "    print('仍需努力')"
   ]
  },
  {
   "cell_type": "code",
   "execution_count": 79,
   "metadata": {},
   "outputs": [
    {
     "name": "stdout",
     "output_type": "stream",
     "text": [
      "知天命\n"
     ]
    }
   ],
   "source": [
    "# 多条件判断\n",
    "age = 55\n",
    "\n",
    "if 30 <= age < 40:\n",
    "    print('而立')\n",
    "elif 40 <= age < 50:\n",
    "    print('不惑')\n",
    "elif 50 <= age < 60:\n",
    "    print('知天命')\n",
    "elif 60 <= age < 70:\n",
    "    print('花甲')\n",
    "elif age >= 70:\n",
    "    print('古来稀')\n",
    "else:\n",
    "    print('未匹配')"
   ]
  },
  {
   "cell_type": "markdown",
   "metadata": {},
   "source": [
    "#### 注意：\n",
    "#### ● 每个条件后面要使用冒号:，表示接下来是满足条件后要执行的语句块\n",
    "#### ● 使用缩进来划分语句块，相同缩进数的语句在一起组成一个语句块（一般缩进4个空格）"
   ]
  },
  {
   "cell_type": "markdown",
   "metadata": {},
   "source": [
    "#### 2.2 if中常用的操作运算符\n",
    "#### 2.2.1 值比较：>（大于）， <（小于），>=（大于等于），<= （小于等于），!= （不等于），== （等于）\n",
    "#### 2.2.2 逻辑比较：and（并且）， or（或者），not（不是）"
   ]
  },
  {
   "cell_type": "code",
   "execution_count": 80,
   "metadata": {},
   "outputs": [
    {
     "name": "stdout",
     "output_type": "stream",
     "text": [
      "列表中不存在叫王思聪的大佬\n"
     ]
    }
   ],
   "source": [
    "staff = ['马云', '马化腾', '王健林', '刘强东', '张一鸣', '黄铮', '刘强东']\n",
    "if '王思聪' in staff:\n",
    "    print('列表中存在叫王思聪的大佬')\n",
    "else:\n",
    "    print('列表中不存在叫王思聪的大佬')"
   ]
  },
  {
   "cell_type": "markdown",
   "metadata": {},
   "source": [
    "#### 2.3 if嵌套语句"
   ]
  },
  {
   "cell_type": "code",
   "execution_count": 85,
   "metadata": {},
   "outputs": [
    {
     "name": "stdout",
     "output_type": "stream",
     "text": [
      "请输入驾驶员每100ml血液酒精的含量：10000\n",
      "驾驶员已构成醉驾\n"
     ]
    }
   ],
   "source": [
    "proof = int(input(\"请输入驾驶员每100ml血液酒精的含量：\"))\n",
    "\n",
    "if 0 <= proof < 20:\n",
    "    print(\"驾驶员不构成酒驾\")\n",
    "else:\n",
    "    if proof < 0:\n",
    "        print(\"请输入正确数值\")\n",
    "    elif proof < 80:\n",
    "        print(\"驾驶员已构成酒驾\")\n",
    "    else:\n",
    "        print(\"驾驶员已构成醉驾\")"
   ]
  },
  {
   "cell_type": "markdown",
   "metadata": {},
   "source": [
    "## 3. for循环\n",
    "#### 循环就是将容器中的每一个数据都按照特定的规则进行重复处理。其中i代表的是容器中的每一个数据。"
   ]
  },
  {
   "cell_type": "code",
   "execution_count": 87,
   "metadata": {},
   "outputs": [
    {
     "name": "stdout",
     "output_type": "stream",
     "text": [
      "出拳一次\n",
      "出拳二次\n",
      "出拳三次\n",
      "出拳四次\n"
     ]
    }
   ],
   "source": [
    "# 重复性工作\n",
    "print(\"出拳一次\")\n",
    "print(\"出拳二次\")\n",
    "print(\"出拳三次\")\n",
    "print(\"出拳四次\")"
   ]
  },
  {
   "cell_type": "code",
   "execution_count": 89,
   "metadata": {},
   "outputs": [
    {
     "name": "stdout",
     "output_type": "stream",
     "text": [
      "出拳一次\n",
      "出拳二次\n",
      "出拳三次\n",
      "出拳四次\n"
     ]
    }
   ],
   "source": [
    "# 容器：挥拳次数\n",
    "punchNum = [\"出拳一次\", \"出拳二次\", \"出拳三次\", \"出拳四次\"]\n",
    "# 循环\n",
    "for i in punchNum:\n",
    "    print(i)"
   ]
  },
  {
   "cell_type": "code",
   "execution_count": 96,
   "metadata": {},
   "outputs": [
    {
     "name": "stdout",
     "output_type": "stream",
     "text": [
      "{'腾讯': 'HK:00700', '阿里巴巴': 'BABA', '苹果': 'APPLE', '谷歌': 'GOOGLE', '脸书': 'FB', '亚马逊': 'AMZN'}\n"
     ]
    }
   ],
   "source": [
    "# 对字典进行循环\n",
    "\n",
    "'''\n",
    "定义字典：6家公司（GAFATA)的股票\n",
    "key是公司的名字，value是公司的股票代号\n",
    "'''\n",
    "gafataDic = {\"腾讯\": \"HK:00700\",\n",
    "             \"阿里巴巴\": \"baba\",\n",
    "             \"苹果\": \"Apple\",\n",
    "             \"谷歌\": \"GOOGLE\",\n",
    "             \"脸书\": \"FB\",\n",
    "             \"亚马逊\": \"amzn\"}\n",
    "\n",
    "for key, value in gafataDic.items():\n",
    "\n",
    "    upperValue = value.upper()\n",
    "    gafataDic[key] = upperValue\n",
    "\n",
    "print(gafataDic)"
   ]
  },
  {
   "cell_type": "code",
   "execution_count": 97,
   "metadata": {},
   "outputs": [
    {
     "name": "stdout",
     "output_type": "stream",
     "text": [
      "当前公司： 腾讯 ,当前股票代码： HK:00700\n",
      "当前公司： 阿里巴巴 ,当前股票代码： BABA\n",
      "当前公司： 谷歌 ,当前股票代码： GOOGLE\n",
      "当前公司： 脸书 ,当前股票代码： FB\n",
      "当前公司： 亚马逊 ,当前股票代码： AMZN\n"
     ]
    }
   ],
   "source": [
    "# continue用于跳过当前循环，break用于退出整个循环\n",
    "\n",
    "for key, value in gafataDic.items():\n",
    "    if (key == '苹果'):\n",
    "        continue\n",
    "    print('当前公司：', key, ',当前股票代码：', value)"
   ]
  },
  {
   "cell_type": "code",
   "execution_count": 102,
   "metadata": {},
   "outputs": [
    {
     "name": "stdout",
     "output_type": "stream",
     "text": [
      "当前公司： 腾讯 ,当前股票代码： HK:00700\n",
      "当前公司： 阿里巴巴 ,当前股票代码： BABA\n",
      "查找 苹果 ,公司的股票代号是 APPLE\n"
     ]
    }
   ],
   "source": [
    "for key, value in gafataDic.items():\n",
    "    if (key == '苹果'):\n",
    "        print('查找', key, ',公司的股票代号是', value)\n",
    "        break\n",
    "    print('当前公司：', key, ',当前股票代码：', value)"
   ]
  },
  {
   "cell_type": "markdown",
   "metadata": {},
   "source": [
    "## 4. 函数基础知识\n",
    "#### 函数是组织好的，可重复使用的，用来实现单一，或相关联功能的代码段。函数能提高应用的模块性，和代码的重复利用率。除了Python提供的许多内建函数，如print()，开发者也可以创建函数，这叫做用户自定义函数。"
   ]
  },
  {
   "cell_type": "markdown",
   "metadata": {},
   "source": [
    "#### 4.1 自定义函数一般格式"
   ]
  },
  {
   "cell_type": "code",
   "execution_count": 103,
   "metadata": {},
   "outputs": [],
   "source": [
    "def add(x, y):\n",
    "    z = x + y\n",
    "    return z"
   ]
  },
  {
   "cell_type": "code",
   "execution_count": 104,
   "metadata": {},
   "outputs": [
    {
     "data": {
      "text/plain": [
       "3"
      ]
     },
     "execution_count": 104,
     "metadata": {},
     "output_type": "execute_result"
    }
   ],
   "source": [
    "add(1, 2)"
   ]
  },
  {
   "cell_type": "markdown",
   "metadata": {},
   "source": [
    "#### 4.2 函数参数中的不可变数据类型和可变数据类型\n",
    "#### Python中，string，tuples和numbers是不可更改的对象，而list，dict等则是可以修改的对象。简单记忆：如果函数参数是字符串，元祖和数字这3种不可更改的对象，参数传递时，相当于传递的复制出的数据，对于数据本身没有影响。\n"
   ]
  },
  {
   "cell_type": "code",
   "execution_count": 109,
   "metadata": {},
   "outputs": [
    {
     "name": "stdout",
     "output_type": "stream",
     "text": [
      "调用函数之前a的值： 1\n",
      "调用函数之后a的值： 1\n"
     ]
    }
   ],
   "source": [
    "# 定义函数：改变数据的值\n",
    "def changeInt(x):\n",
    "    x = x + 1\n",
    "\n",
    "\n",
    "a = 1\n",
    "print('调用函数之前a的值：', a)\n",
    "changeInt(x=a)\n",
    "print('调用函数之后a的值：', a)"
   ]
  },
  {
   "cell_type": "code",
   "execution_count": 110,
   "metadata": {},
   "outputs": [
    {
     "name": "stdout",
     "output_type": "stream",
     "text": [
      "调用函数之前的列表： ['马云', '马化腾', '王健林', '刘强东', '张一鸣', '黄铮']\n",
      "调用函数之前的列表： ['马云', '马化腾', '王健林', '刘强东', '张一鸣', '黄铮', '王思聪']\n"
     ]
    }
   ],
   "source": [
    "# 定义函数：改变列表的值\n",
    "def changeList(inputList):\n",
    "    inputList.append('王思聪')\n",
    "\n",
    "\n",
    "staff = ['马云', '马化腾', '王健林', '刘强东', '张一鸣', '黄铮']\n",
    "print('调用函数之前的列表：', staff)\n",
    "changeList(inputList=staff)\n",
    "print('调用函数之前的列表：', staff)"
   ]
  },
  {
   "cell_type": "markdown",
   "metadata": {},
   "source": [
    "#### 4.3 变量的作用域\n",
    "#### Python中，程序的变量并不是在哪一个位置都可以访问的，访问权限决定于这个变量是在哪里赋值的。变量的作用域决定了在哪一部分程序可以访问哪个特定的变量名称。变量作用域分为局部作用域和全局作用域，定义在函数内部的变量拥有一个局部作用域，定义在函数外的拥有全局作用域。局部变量只能在其被声明的函数内部访问，而全局变量可以在整个程序范围内访问。"
   ]
  },
  {
   "cell_type": "code",
   "execution_count": 115,
   "metadata": {},
   "outputs": [
    {
     "name": "stdout",
     "output_type": "stream",
     "text": [
      "['春节', '端午', '中秋']\n"
     ]
    }
   ],
   "source": [
    "# 变量的作用域\n",
    "def scopre_test():\n",
    "    festival = [\"春节\", \"端午\", \"中秋\"]\n",
    "    print(festival)\n",
    "\n",
    "\n",
    "scopre_test()  # 局部可访问"
   ]
  },
  {
   "cell_type": "code",
   "execution_count": 116,
   "metadata": {},
   "outputs": [
    {
     "ename": "NameError",
     "evalue": "name 'festival' is not defined",
     "output_type": "error",
     "traceback": [
      "\u001b[0;31m---------------------------------------------------------------------------\u001b[0m",
      "\u001b[0;31mNameError\u001b[0m                                 Traceback (most recent call last)",
      "\u001b[0;32m<ipython-input-116-c21e6ff3da62>\u001b[0m in \u001b[0;36m<module>\u001b[0;34m\u001b[0m\n\u001b[0;32m----> 1\u001b[0;31m \u001b[0mfestival\u001b[0m\u001b[0;34m\u001b[0m\u001b[0;34m\u001b[0m\u001b[0m\n\u001b[0m",
      "\u001b[0;31mNameError\u001b[0m: name 'festival' is not defined"
     ]
    }
   ],
   "source": [
    "festival  # 全局不可访问"
   ]
  },
  {
   "cell_type": "markdown",
   "metadata": {},
   "source": [
    "## 5. 模块\n",
    "#### 5.1 什么是模块\n",
    "#### 模块是一个包含所有你定义的函数和变量的文件，其后缀名是.py。模块可以被别的程序引入，以使用该模块中的函数等功能。模块分为内置模块和第三方包/库。\n",
    "#### 5.2 使用内置模块"
   ]
  },
  {
   "cell_type": "code",
   "execution_count": 117,
   "metadata": {},
   "outputs": [
    {
     "name": "stdout",
     "output_type": "stream",
     "text": [
      "Python路径为：\n",
      " ['/Users/kevin', '/Users/kevin/opt/anaconda3/lib/python38.zip', '/Users/kevin/opt/anaconda3/lib/python3.8', '/Users/kevin/opt/anaconda3/lib/python3.8/lib-dynload', '', '/Users/kevin/.local/lib/python3.8/site-packages', '/Users/kevin/opt/anaconda3/lib/python3.8/site-packages', '/Users/kevin/opt/anaconda3/lib/python3.8/site-packages/aeosa', '/Users/kevin/opt/anaconda3/lib/python3.8/site-packages/IPython/extensions', '/Users/kevin/.ipython']\n"
     ]
    }
   ],
   "source": [
    "# Python内置模块\n",
    "\n",
    "import sys  # 引入模块\n",
    "pathList = sys.path  # 调用模块中的函数，属性\n",
    "\n",
    "print(\"Python路径为：\\n\", sys.path)"
   ]
  },
  {
   "cell_type": "markdown",
   "metadata": {},
   "source": [
    "#### 5.3 什么是包&如何使用包\n",
    "#### 为了避免模块名称冲突，Python引入按目录组织模块的方法，称为包，简而言之，包就是将多个模块用文件夹方式组织在一起。"
   ]
  },
  {
   "cell_type": "code",
   "execution_count": 119,
   "metadata": {},
   "outputs": [],
   "source": [
    "import pandas as pd\n",
    "from pandas import read_csv"
   ]
  },
  {
   "cell_type": "markdown",
   "metadata": {},
   "source": [
    "## 6.数据结构\n",
    "#### 容器在变成中也叫数据结构。熟悉数据结构能帮助选择合适的容器来存放数据进而提高工作效率。常见的数据结构有：双向链表queue（队列，栈）、排序字典（OrderedDict）、计数器（Counter）\n",
    "#### 6.1 数据双向链表queue：队列和栈"
   ]
  },
  {
   "cell_type": "code",
   "execution_count": 124,
   "metadata": {},
   "outputs": [
    {
     "name": "stdout",
     "output_type": "stream",
     "text": [
      "deque(['001', '002', '003', '004', '005', '006'])\n"
     ]
    }
   ],
   "source": [
    "# 定义队列：排队吃饭人的编号\n",
    "from collections import deque\n",
    "queue = deque(['001', '002', '003', '004', '005'])\n",
    "# 入队：在队伍尾部插入元素\n",
    "queue.append('006')\n",
    "print(queue)"
   ]
  },
  {
   "cell_type": "code",
   "execution_count": 125,
   "metadata": {},
   "outputs": [
    {
     "data": {
      "text/plain": [
       "'001'"
      ]
     },
     "execution_count": 125,
     "metadata": {},
     "output_type": "execute_result"
    }
   ],
   "source": [
    "# 出队：在队列头部删除元素\n",
    "queue.popleft()"
   ]
  },
  {
   "cell_type": "code",
   "execution_count": 127,
   "metadata": {},
   "outputs": [
    {
     "name": "stdout",
     "output_type": "stream",
     "text": [
      "deque(['002', '003', '004', '005', '006'])\n"
     ]
    }
   ],
   "source": [
    "print(queue)"
   ]
  },
  {
   "cell_type": "code",
   "execution_count": 128,
   "metadata": {},
   "outputs": [
    {
     "name": "stdout",
     "output_type": "stream",
     "text": [
      "deque(['知乎专栏', '知乎动态', '知乎回答', '知乎文章'])\n"
     ]
    }
   ],
   "source": [
    "# 定义栈：浏览个人知乎主业的顺序\n",
    "stack = deque(['知乎动态', '知乎回答', '知乎文章'])\n",
    "# 入栈：在栈项中加入元素\n",
    "stack.appendleft('知乎专栏')\n",
    "print(stack)"
   ]
  },
  {
   "cell_type": "code",
   "execution_count": 129,
   "metadata": {},
   "outputs": [
    {
     "name": "stdout",
     "output_type": "stream",
     "text": [
      "deque(['知乎专栏', '知乎动态', '知乎回答'])\n"
     ]
    }
   ],
   "source": [
    "# 出栈\n",
    "stack.pop()\n",
    "print(stack)"
   ]
  },
  {
   "cell_type": "markdown",
   "metadata": {},
   "source": [
    "#### 6.2 排序字典：orderedDict"
   ]
  },
  {
   "cell_type": "code",
   "execution_count": 135,
   "metadata": {},
   "outputs": [
    {
     "name": "stdout",
     "output_type": "stream",
     "text": [
      "{'腾讯': 'HK:00700', '阿里巴巴': 'baba', '苹果': 'Apple', '谷歌': 'GOOGLE', 'facebook': 'fb', '亚马逊': 'amzn'}\n"
     ]
    }
   ],
   "source": [
    "# python3.7后字典默认有序\n",
    "gafataDic = {\"腾讯\": \"HK:00700\",\n",
    "             \"阿里巴巴\": \"baba\",\n",
    "             \"苹果\": \"Apple\",\n",
    "             \"谷歌\": \"GOOGLE\",\n",
    "             \"facebook\": \"fb\",\n",
    "             \"亚马逊\": \"amzn\"}\n",
    "print(gafataDic)"
   ]
  },
  {
   "cell_type": "code",
   "execution_count": 132,
   "metadata": {},
   "outputs": [
    {
     "name": "stdout",
     "output_type": "stream",
     "text": [
      "OrderedDict([('腾讯', 'HK:00700'), ('阿里巴巴', 'baba'), ('苹果', 'Apple'), ('谷歌', 'GOOGLE'), ('脸书', 'FB'), ('亚马逊', 'amzn')])\n"
     ]
    }
   ],
   "source": [
    "from collections import OrderedDict\n",
    "\n",
    "gafataDic_ordered = OrderedDict({\"腾讯\": \"HK:00700\",\n",
    "                                 \"阿里巴巴\": \"baba\",\n",
    "                                 \"苹果\": \"Apple\",\n",
    "                                 \"谷歌\": \"GOOGLE\",\n",
    "                                 \"脸书\": \"FB\",\n",
    "                                 \"亚马逊\": \"amzn\"})\n",
    "\n",
    "print(gafataDic_ordered)"
   ]
  },
  {
   "cell_type": "markdown",
   "metadata": {},
   "source": [
    "#### 6.3 计数器：Counter"
   ]
  },
  {
   "cell_type": "code",
   "execution_count": 138,
   "metadata": {},
   "outputs": [
    {
     "name": "stdout",
     "output_type": "stream",
     "text": [
      "Counter({'，': 7, '其': 6, '所': 3, '心': 2, '故': 1, '天': 1, '将': 1, '降': 1, '大': 1, '任': 1, '于': 1, '斯': 1, '人': 1, '也': 1, '必': 1, '先': 1, '苦': 1, '志': 1, '劳': 1, '筋': 1, '骨': 1, '饿': 1, '体': 1, '肤': 1, '空': 1, '乏': 1, '身': 1, '行': 1, '拂': 1, '乱': 1, '为': 1, '以': 1, '动': 1, '忍': 1, '性': 1, '曾': 1, '益': 1, '不': 1, '能': 1, '。': 1})\n"
     ]
    }
   ],
   "source": [
    "from collections import Counter\n",
    "\n",
    "cDict = Counter(\"故天将降大任于斯人也，必先苦其心志，劳其筋骨，饿其体肤，空乏其身，行拂乱其所为，所以动心忍性，曾益其所不能。\")\n",
    "print(cDict)"
   ]
  },
  {
   "cell_type": "code",
   "execution_count": 139,
   "metadata": {},
   "outputs": [
    {
     "data": {
      "text/plain": [
       "[('，', 7), ('其', 6), ('所', 3)]"
      ]
     },
     "execution_count": 139,
     "metadata": {},
     "output_type": "execute_result"
    }
   ],
   "source": [
    "cDict.most_common(3)"
   ]
  },
  {
   "cell_type": "code",
   "execution_count": null,
   "metadata": {},
   "outputs": [],
   "source": []
  }
 ],
 "metadata": {
  "hide_input": false,
  "kernelspec": {
   "display_name": "Python 3",
   "language": "python",
   "name": "python3"
  },
  "language_info": {
   "codemirror_mode": {
    "name": "ipython",
    "version": 3
   },
   "file_extension": ".py",
   "mimetype": "text/x-python",
   "name": "python",
   "nbconvert_exporter": "python",
   "pygments_lexer": "ipython3",
   "version": "3.8.2"
  },
  "notify_time": "5",
  "toc": {
   "base_numbering": 1,
   "nav_menu": {},
   "number_sections": true,
   "sideBar": true,
   "skip_h1_title": false,
   "title_cell": "Table of Contents",
   "title_sidebar": "Contents",
   "toc_cell": false,
   "toc_position": {
    "height": "620px",
    "left": "73px",
    "top": "408px",
    "width": "361.484px"
   },
   "toc_section_display": true,
   "toc_window_display": false
  },
  "varInspector": {
   "cols": {
    "lenName": 16,
    "lenType": 16,
    "lenVar": 40
   },
   "kernels_config": {
    "python": {
     "delete_cmd_postfix": "",
     "delete_cmd_prefix": "del ",
     "library": "var_list.py",
     "varRefreshCmd": "print(var_dic_list())"
    },
    "r": {
     "delete_cmd_postfix": ") ",
     "delete_cmd_prefix": "rm(",
     "library": "var_list.r",
     "varRefreshCmd": "cat(var_dic_list()) "
    }
   },
   "position": {
    "height": "145px",
    "left": "1207px",
    "right": "20px",
    "top": "136px",
    "width": "350px"
   },
   "types_to_exclude": [
    "module",
    "function",
    "builtin_function_or_method",
    "instance",
    "_Feature"
   ],
   "window_display": false
  }
 },
 "nbformat": 4,
 "nbformat_minor": 4
}
