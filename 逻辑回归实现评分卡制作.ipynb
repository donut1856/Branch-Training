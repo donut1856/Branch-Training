{
 "cells": [
  {
   "cell_type": "markdown",
   "metadata": {},
   "source": [
    "## 评分卡"
   ]
  },
  {
   "cell_type": "markdown",
   "metadata": {},
   "source": [
    "### 在银行借贷场景中，评分卡是一种以分数形式来衡量一个客户的信用风险大小的手段，它衡量向别人借钱的人（受信人，需要融资的公司）不能如期履行合同中的还本付息责任，并让借钱给别人的人（授信人，银行等金融机构）  造成经济损失的可能性。一般来说，评分卡打出的分数越高，客户的信用越好，风险越小。\n",
    "\n",
    "### 这些”借钱的人“，可能是个人，有可能是有需求的公司和企业。对于企业来说，我们按照融资主体的融资用途，分别使用企业融资模型，现金流融资模型，项目融资模型等模型。而对于个人来说，我们有”四张卡“来评判个人的信用程度：A卡，B卡，C卡和F卡。而众人常说的“评分卡”其实是指A卡，又称为申请者评级模型，主要应用于相关融资类业务中新用户的主体评级，即判断金融机构是否应该借钱给一个新用户，如果这个人的风险太高，我们可以拒绝贷款。"
   ]
  },
  {
   "cell_type": "code",
   "execution_count": 1,
   "metadata": {},
   "outputs": [
    {
     "ename": "ModuleNotFoundError",
     "evalue": "No module named 'imblearn'",
     "output_type": "error",
     "traceback": [
      "\u001b[1;31m---------------------------------------------------------------------------\u001b[0m",
      "\u001b[1;31mModuleNotFoundError\u001b[0m                       Traceback (most recent call last)",
      "\u001b[1;32m<ipython-input-1-c173222c4700>\u001b[0m in \u001b[0;36m<module>\u001b[1;34m()\u001b[0m\n\u001b[0;32m      3\u001b[0m \u001b[1;32mimport\u001b[0m \u001b[0mmatplotlib\u001b[0m\u001b[1;33m.\u001b[0m\u001b[0mpyplot\u001b[0m \u001b[1;32mas\u001b[0m \u001b[0mplt\u001b[0m\u001b[1;33m\u001b[0m\u001b[0m\n\u001b[0;32m      4\u001b[0m \u001b[1;32mimport\u001b[0m \u001b[0mseaborn\u001b[0m \u001b[1;32mas\u001b[0m \u001b[0msn\u001b[0m\u001b[1;33m\u001b[0m\u001b[0m\n\u001b[1;32m----> 5\u001b[1;33m \u001b[1;32mfrom\u001b[0m \u001b[0mimblearn\u001b[0m\u001b[1;33m.\u001b[0m\u001b[0mover_sampling\u001b[0m \u001b[1;32mimport\u001b[0m \u001b[0mSMOTE\u001b[0m\u001b[1;33m\u001b[0m\u001b[0m\n\u001b[0m\u001b[0;32m      6\u001b[0m \u001b[1;32mfrom\u001b[0m \u001b[0msklearn\u001b[0m\u001b[1;33m.\u001b[0m\u001b[0mlinear_model\u001b[0m \u001b[1;32mimport\u001b[0m \u001b[0mLogisticRegression\u001b[0m \u001b[1;32mas\u001b[0m \u001b[0mLR\u001b[0m\u001b[1;33m\u001b[0m\u001b[0m\n\u001b[0;32m      7\u001b[0m \u001b[1;32mfrom\u001b[0m \u001b[0msklearn\u001b[0m\u001b[1;33m.\u001b[0m\u001b[0mtree\u001b[0m \u001b[1;32mimport\u001b[0m \u001b[0mDecisionTreeClassifier\u001b[0m\u001b[1;33m\u001b[0m\u001b[0m\n",
      "\u001b[1;31mModuleNotFoundError\u001b[0m: No module named 'imblearn'"
     ]
    }
   ],
   "source": [
    "import numpy as np\n",
    "import pandas as pd\n",
    "import matplotlib.pyplot as plt\n",
    "import seaborn as sn\n",
    "from imblearn.over_sampling import SMOTE\n",
    "from sklearn.linear_model import LogisticRegression as LR\n",
    "from sklearn.tree import DecisionTreeClassifier \n",
    "from sklearn import tree\n",
    "from sklearn.model_selection import train_test_split \n",
    "import warnings\n",
    "warnings.filterwarnings('ignore')\n",
    "\n",
    "%matplotlib inline"
   ]
  },
  {
   "cell_type": "code",
   "execution_count": null,
   "metadata": {},
   "outputs": [],
   "source": [
    "rc = pd.read_csv(r\"C:\\Users\\Cracker Park\\Desktop\\培训材料\\dataset\\rankingcard.csv\", index_col = 0)\n",
    "\n",
    "pd.set_option('display.max_rows', 1000,'display.max_columns', 1000,\"display.max_colwidth\", None,'display.width',None)"
   ]
  },
  {
   "cell_type": "code",
   "execution_count": null,
   "metadata": {},
   "outputs": [],
   "source": [
    "rc.head()"
   ]
  },
  {
   "cell_type": "code",
   "execution_count": null,
   "metadata": {},
   "outputs": [],
   "source": [
    "rc.tail()"
   ]
  },
  {
   "cell_type": "code",
   "execution_count": null,
   "metadata": {},
   "outputs": [],
   "source": [
    "rc.shape"
   ]
  },
  {
   "cell_type": "code",
   "execution_count": null,
   "metadata": {},
   "outputs": [],
   "source": [
    "rc.info()"
   ]
  },
  {
   "cell_type": "markdown",
   "metadata": {},
   "source": [
    "<img src=\"./借款人信息属性表.png\" style=\"zoom:80%\" />"
   ]
  },
  {
   "cell_type": "code",
   "execution_count": null,
   "metadata": {},
   "outputs": [],
   "source": [
    "rc.duplicated().sum()"
   ]
  },
  {
   "cell_type": "code",
   "execution_count": null,
   "metadata": {},
   "outputs": [],
   "source": [
    "rc.drop_duplicates(inplace = True)"
   ]
  },
  {
   "cell_type": "code",
   "execution_count": null,
   "metadata": {},
   "outputs": [],
   "source": [
    "describe = rc.describe().T\n",
    "describe"
   ]
  },
  {
   "cell_type": "code",
   "execution_count": null,
   "metadata": {},
   "outputs": [],
   "source": [
    "rc.isna().sum()"
   ]
  },
  {
   "cell_type": "code",
   "execution_count": null,
   "metadata": {},
   "outputs": [],
   "source": [
    "describe['null'] = rc.isna().sum()\n",
    "describe['% of Total Values'] = describe['null'] / len(rc) *100\n",
    "describe"
   ]
  },
  {
   "cell_type": "code",
   "execution_count": null,
   "metadata": {},
   "outputs": [],
   "source": [
    "missvalue = describe[['null','% of Total Values','min','max']].sort_values(by = 'null', ascending = False)\n",
    "missvalue"
   ]
  },
  {
   "cell_type": "code",
   "execution_count": null,
   "metadata": {},
   "outputs": [],
   "source": [
    "rc.MonthlyIncome.value_counts()"
   ]
  },
  {
   "cell_type": "code",
   "execution_count": null,
   "metadata": {},
   "outputs": [],
   "source": [
    "rc['MonthlyIncome'].fillna(value = rc['MonthlyIncome'].median(), inplace  = True) #以月收入中位数填充空值"
   ]
  },
  {
   "cell_type": "code",
   "execution_count": null,
   "metadata": {},
   "outputs": [],
   "source": [
    "rc.NumberOfDependents.value_counts()"
   ]
  },
  {
   "cell_type": "code",
   "execution_count": null,
   "metadata": {},
   "outputs": [],
   "source": [
    "sn.catplot('NumberOfDependents', data = rc, kind = 'count', aspect = 2)"
   ]
  },
  {
   "cell_type": "code",
   "execution_count": null,
   "metadata": {},
   "outputs": [],
   "source": [
    "rc['NumberOfDependents'].fillna(value = rc['NumberOfDependents'].mode()[0], inplace  = True)  #以家属数量的众数填充空值"
   ]
  },
  {
   "cell_type": "code",
   "execution_count": null,
   "metadata": {},
   "outputs": [],
   "source": [
    "rc.isna().sum()"
   ]
  },
  {
   "cell_type": "markdown",
   "metadata": {},
   "source": [
    "### 异常值处理"
   ]
  },
  {
   "cell_type": "code",
   "execution_count": null,
   "metadata": {},
   "outputs": [],
   "source": [
    "describe"
   ]
  },
  {
   "cell_type": "code",
   "execution_count": null,
   "metadata": {},
   "outputs": [],
   "source": [
    "rc[rc.age < 18]"
   ]
  },
  {
   "cell_type": "code",
   "execution_count": null,
   "metadata": {},
   "outputs": [],
   "source": [
    "rc.drop(rc[rc.age < 18].index, inplace = True)"
   ]
  },
  {
   "cell_type": "code",
   "execution_count": null,
   "metadata": {},
   "outputs": [],
   "source": [
    "sn.catplot('NumberOfTime30-59DaysPastDueNotWorse', data = rc, kind = 'count', aspect  = 2)"
   ]
  },
  {
   "cell_type": "code",
   "execution_count": null,
   "metadata": {},
   "outputs": [],
   "source": [
    "rc[rc['NumberOfTime30-59DaysPastDueNotWorse'] > 90].count()"
   ]
  },
  {
   "cell_type": "code",
   "execution_count": null,
   "metadata": {},
   "outputs": [],
   "source": [
    "rc.drop(rc[rc['NumberOfTime30-59DaysPastDueNotWorse'] > 90].index, inplace = True)\n",
    "rc.reset_index(drop = True)  #重置索引"
   ]
  },
  {
   "cell_type": "markdown",
   "metadata": {},
   "source": [
    "### 样本分布情况"
   ]
  },
  {
   "cell_type": "code",
   "execution_count": null,
   "metadata": {},
   "outputs": [],
   "source": [
    "rc.SeriousDlqin2yrs.value_counts()"
   ]
  },
  {
   "cell_type": "code",
   "execution_count": null,
   "metadata": {},
   "outputs": [],
   "source": [
    "sn.catplot('SeriousDlqin2yrs', data = rc, kind = 'count')"
   ]
  },
  {
   "cell_type": "code",
   "execution_count": null,
   "metadata": {},
   "outputs": [],
   "source": [
    "x = rc.drop(columns = 'SeriousDlqin2yrs')\n",
    "y = rc['SeriousDlqin2yrs']\n",
    "\n",
    "Xtrain, Xtest, Ytrain, Ytest = train_test_split(x, y, test_size = 0.3, random_state = 1912) #划分训练集和测试集\n",
    "\n",
    "print('训练样本数:',Xtrain.shape[0], '测试样本数:',Xtest.shape[0]) "
   ]
  },
  {
   "cell_type": "code",
   "execution_count": null,
   "metadata": {},
   "outputs": [],
   "source": [
    "sm = SMOTE(random_state = 1912)\n",
    "Xtrain,Ytrain = sm.fit_resample(Xtrain,Ytrain)\n",
    "\n",
    "Ytrain.value_counts()"
   ]
  },
  {
   "cell_type": "markdown",
   "metadata": {},
   "source": [
    "### 分箱"
   ]
  },
  {
   "cell_type": "markdown",
   "metadata": {},
   "source": [
    "### 离散化连续变量必然伴随着信息的损失，并且箱子越少，   信息损失越大。为了衡量特征上的信息量以及特征对预测函数的贡献，银行业定义了概念Information value(IV)：\n",
    "#### $$IV = \\sum_{i=1}^N([good(percentage) - bad(percentage)]*WOE_i)$$\n",
    "#### $$WOE_i = ln[\\frac{good(percentage)}{bad(percentage)}]$$\n",
    "### 这是我们在银行业中用来衡量违约概率的指标，中文叫做证据权重(Weight of Evidence)，本质其实就是优质客户比上坏客户的比例的对数。WOE是对一个箱子来说的，WOE越大，代表了这个箱子里的优质客户越多。而IV是对整个特征来说的，IV代表的意义是我们特征上的信息量以及这个特征对模型的贡献，由下表来控制：\n",
    "#### IV<0.03 特征几乎不带有效信息，对模型没有贡献，可以忽略\n",
    "#### 0.03<IV<0.09 有效信息很少，对模型贡献低\n",
    "#### 0.1<IV<0.29 有效信息一般，对模型贡献中等\n",
    "#### 0.3<IV<0.49 有效信息较多，对模型贡献较高\n",
    "#### IV>=0.5 有效信息非常多，对模型贡献超高\n"
   ]
  },
  {
   "cell_type": "code",
   "execution_count": null,
   "metadata": {},
   "outputs": [],
   "source": [
    "def decisiontree_binning(x, y):\n",
    "    boundary = [] #空列表以接收边界值\n",
    "    \n",
    "    x = x.values\n",
    "    y = y.values\n",
    "    \n",
    "    clf = DecisionTreeClassifier(criterion = 'entropy'\n",
    "                                ,max_leaf_nodes = 20\n",
    "                                ,min_samples_leaf = 0.05\n",
    "                                )    #实例化决策树\n",
    "    clf.fit(x.reshape(-1,1),y)  #训练决策树\n",
    "    \n",
    "    n_nodes = clf.tree_.node_count\n",
    "    children_left = clf.tree_.children_left\n",
    "    children_right = clf.tree_.children_right\n",
    "    threshold = clf.tree_.threshold\n",
    "    \n",
    "    for i in range(n_nodes):\n",
    "        if children_left[i] != children_right[i]:\n",
    "            boundary.append(threshold[i])\n",
    "            \n",
    "    boundary.sort()\n",
    "    \n",
    "    min_x = x.min()\n",
    "    max_x = x.max() + 0.1\n",
    "    boundary = [min_x] + boundary + [max_x]\n",
    "    \n",
    "    return boundary       "
   ]
  },
  {
   "cell_type": "code",
   "execution_count": null,
   "metadata": {},
   "outputs": [],
   "source": [
    "for ft in Xtrain.columns:\n",
    "    result = decisiontree_binning(x = Xtrain[ft], y = Ytrain\n",
    "    )\n",
    "    \n",
    "    print('特征:',ft,\n",
    "          '\\n''分箱个数:{}'.format(len(result)-1),\n",
    "          '\\n''分箱区间:{}'.format(result))"
   ]
  },
  {
   "cell_type": "code",
   "execution_count": null,
   "metadata": {},
   "outputs": [],
   "source": [
    "def feature_woe_iv(x, y):\n",
    "    \n",
    "    boundary = decisiontree_binning(x, y)\n",
    "    df = pd.concat([x, y], axis = 1)\n",
    "    df.columns = ['x', 'y']\n",
    "    df['bins'] = pd.cut(x = x, bins = boundary, right = False)\n",
    "    \n",
    "    grouped = df.groupby('bins')['y']\n",
    "    result_df = grouped.agg([('good', lambda y: (y == 0).sum()), \n",
    "                             ('bad', lambda y: (y == 1).sum()),\n",
    "                             ('total', 'count')])\n",
    "    \n",
    "    result_df['% of the good'] = result_df['good'] / result_df['good'].sum()       # 好客户占比\n",
    "    result_df['% of the bad'] = result_df['bad'] / result_df['bad'].sum()          # 坏客户占比\n",
    "    result_df['% of the total'] = result_df['total'] / result_df['total'].sum()    # 总客户占比\n",
    "\n",
    "    result_df['bad_rate'] = result_df['bad'] / result_df['total']             # 坏比率\n",
    "    \n",
    "    result_df['woe'] = np.log(result_df['% of the good'] / result_df['% of the bad'])              # WOE\n",
    "    result_df['iv'] = (result_df['% of the good'] - result_df['% of the bad']) * result_df['woe']  # IV\n",
    "\n",
    "    print('IV = {}'.format(result_df['iv'].sum()))\n",
    "    return result_df"
   ]
  },
  {
   "cell_type": "code",
   "execution_count": null,
   "metadata": {},
   "outputs": [],
   "source": [
    "feature_woe_iv(Xtrain.age, Ytrain)"
   ]
  },
  {
   "cell_type": "code",
   "execution_count": null,
   "metadata": {},
   "outputs": [],
   "source": [
    "for ft in Xtrain.columns:\n",
    "    print(ft)\n",
    "    feature_woe_iv(x = Xtrain[ft], y = Ytrain\n",
    "    )"
   ]
  },
  {
   "cell_type": "code",
   "execution_count": null,
   "metadata": {},
   "outputs": [],
   "source": [
    "feature_woe_iv(Xtrain.RevolvingUtilizationOfUnsecuredLines, Ytrain)"
   ]
  },
  {
   "cell_type": "code",
   "execution_count": null,
   "metadata": {},
   "outputs": [],
   "source": [
    "feature_woe_iv(Xtrain.age, Ytrain)"
   ]
  },
  {
   "cell_type": "code",
   "execution_count": null,
   "metadata": {},
   "outputs": [],
   "source": [
    "feature_woe_iv(Xtrain['NumberOfTime30-59DaysPastDueNotWorse'], Ytrain)"
   ]
  },
  {
   "cell_type": "code",
   "execution_count": null,
   "metadata": {},
   "outputs": [],
   "source": [
    "feature_woe_iv(Xtrain['DebtRatio'], Ytrain)"
   ]
  },
  {
   "cell_type": "code",
   "execution_count": null,
   "metadata": {},
   "outputs": [],
   "source": [
    "feature_woe_iv(Xtrain['NumberOfTimes90DaysLate'], Ytrain)"
   ]
  },
  {
   "cell_type": "code",
   "execution_count": null,
   "metadata": {},
   "outputs": [],
   "source": [
    "feature_woe_iv(Xtrain['NumberRealEstateLoansOrLines'], Ytrain)"
   ]
  },
  {
   "cell_type": "code",
   "execution_count": null,
   "metadata": {},
   "outputs": [],
   "source": [
    "feature_woe_iv(Xtrain['NumberOfTime60-89DaysPastDueNotWorse'], Ytrain)"
   ]
  },
  {
   "cell_type": "code",
   "execution_count": null,
   "metadata": {},
   "outputs": [],
   "source": [
    "ft_bins = {}\n",
    "\n",
    "for ft in Xtrain.columns:\n",
    "    ft_bins[ft] = decisiontree_binning(x = Xtrain[ft]\n",
    "                                      ,y = Ytrain\n",
    "    )\n",
    "\n",
    "ft_bins['NumberOfDependents'] = [0,1,2,3]\n",
    "ft_bins = {k:[-np.inf,*v[:-1],np.inf] for k,v in ft_bins.items()}\n",
    "\n",
    "ft_bins"
   ]
  },
  {
   "cell_type": "code",
   "execution_count": null,
   "metadata": {},
   "outputs": [],
   "source": [
    "def get_woe(df,ft,y,bins):\n",
    "    df = df[[ft,y]].copy()\n",
    "    df[\"cut\"] = pd.cut(df[ft],bins)\n",
    "    bins_df = df.groupby(\"cut\", observed = True)[y].value_counts().unstack()\n",
    "    woe = bins_df[\"woe\"] = np.log((bins_df[0]/bins_df[0].sum())/(bins_df[1]/bins_df[1].sum()))\n",
    "    return woe\n",
    "\n",
    "woeall = {}\n",
    "for ft in ft_bins:\n",
    "    woeall[ft] = get_woe(pd.concat([Xtrain,Ytrain], axis =1),ft,\"SeriousDlqin2yrs\",ft_bins[ft])\n",
    "    \n",
    "woeall"
   ]
  },
  {
   "cell_type": "code",
   "execution_count": null,
   "metadata": {},
   "outputs": [],
   "source": [
    "train_woe = pd.DataFrame(index = Xtrain.index)\n",
    "\n",
    "for ft in ft_bins:\n",
    "    train_woe[ft] = pd.cut(Xtrain[ft],ft_bins[ft]).map(woeall[ft])\n",
    "\n",
    "train_woe['SeriousDlqin2yrs'] = Ytrain\n",
    "train_woe"
   ]
  },
  {
   "cell_type": "code",
   "execution_count": null,
   "metadata": {},
   "outputs": [],
   "source": [
    "test_woe = pd.DataFrame(index = Xtest.index)\n",
    "\n",
    "for ft in ft_bins:\n",
    "    test_woe[ft] = pd.cut(Xtest[ft],ft_bins[ft]).map(woeall[ft])\n",
    "\n",
    "test_woe['SeriousDlqin2yrs'] = Ytest\n",
    "test_woe"
   ]
  },
  {
   "cell_type": "markdown",
   "metadata": {},
   "source": [
    "### 建模"
   ]
  },
  {
   "cell_type": "code",
   "execution_count": null,
   "metadata": {},
   "outputs": [],
   "source": [
    "Xtrain = train_woe.iloc[:,:-1]\n",
    "Ytrain = train_woe.iloc[:,-1]\n",
    "\n",
    "Xtest = test_woe.iloc[:,:-1]\n",
    "Ytest = test_woe.iloc[:,-1]\n",
    "\n",
    "lr = LR()\n",
    "lr = lr.fit(Xtrain,Ytrain)\n",
    "\n",
    "score_train = lr.score(Xtrain,Ytrain) \n",
    "score_test = lr.score(Xtest,Ytest) \n",
    "print('训练集上准确度:',score_train,'测试集上准确度:',score_test)"
   ]
  },
  {
   "cell_type": "code",
   "execution_count": null,
   "metadata": {},
   "outputs": [],
   "source": [
    "from sklearn.metrics import recall_score, precision_score, f1_score\n",
    "\n",
    "recall_score(Ytest, lr.predict(Xtest))\n"
   ]
  },
  {
   "cell_type": "code",
   "execution_count": null,
   "metadata": {},
   "outputs": [],
   "source": [
    "precision_score(Ytest, lr.predict(Xtest))"
   ]
  },
  {
   "cell_type": "code",
   "execution_count": null,
   "metadata": {},
   "outputs": [],
   "source": [
    "f1_score(Ytest, lr.predict(Xtest))"
   ]
  },
  {
   "cell_type": "code",
   "execution_count": null,
   "metadata": {},
   "outputs": [],
   "source": [
    "co = pd.concat([pd.DataFrame(Xtrain.columns),pd.DataFrame(lr.coef_).T]\n",
    "               ,axis = 1\n",
    "               ,ignore_index = True\n",
    "              )\n",
    "co.columns = ['feature','coefficient']\n",
    "co.sort_values(by = 'coefficient', ascending = False)"
   ]
  },
  {
   "cell_type": "markdown",
   "metadata": {},
   "source": [
    "## 评分卡"
   ]
  },
  {
   "cell_type": "markdown",
   "metadata": {},
   "source": [
    "#### 评分卡的计算公式如下所示：\n",
    "#### $$Score = A - B*\\log(odds)$$\n",
    "#### 式中$A$，$B$均为常数，$A$被称作“补偿”，$B$被称为“刻度”，$\\log(odds)$表示某人违约的可能性。因为对逻辑回归取对数会得到$\\boldsymbol\\theta^T\\cdot x$，即参数$*$特征矩阵，所以$\\log(odds)$就是参数。$A$，$B$可由如下两个假设求解：\n",
    "####     1.某特定违约概率下的预期分值\n",
    "####     2.指定违约概率翻倍的分数（PDO)\n",
    "#### eg.假定对数概率为$\\frac{1}{60}$时指定的分数为600，PDO=20，那么对数概率为$\\frac{1}{30}$时的分数为620。带入上式可以得到：\n",
    "#### $$600 = A - B*\\log(\\frac{1}{60})$$\n",
    "#### $$620 = A - B*\\log(\\frac{1}{30})$$"
   ]
  },
  {
   "cell_type": "code",
   "execution_count": null,
   "metadata": {},
   "outputs": [],
   "source": [
    "#求解A,B\n",
    "\n",
    "B = 20/np.log(2)\n",
    "A = 600 + B*np.log(1/60)\n",
    "\n",
    "B,A"
   ]
  },
  {
   "cell_type": "code",
   "execution_count": null,
   "metadata": {},
   "outputs": [],
   "source": [
    "#基础分\n",
    "\n",
    "base_score = A - B*lr.intercept_\n",
    "base_score"
   ]
  },
  {
   "cell_type": "code",
   "execution_count": null,
   "metadata": {},
   "outputs": [],
   "source": [
    "score_age = woeall[\"age\"] * (-B*lr.coef_[0][1])   #lr.coef_：逻辑回归里每一个特征对应的系数\n",
    "score_age  #\"age\"特征中每个箱对应的分数"
   ]
  },
  {
   "cell_type": "code",
   "execution_count": null,
   "metadata": {},
   "outputs": [],
   "source": [
    "file = r\"C:\\Users\\Cracker Park\\Desktop\\ScoreData.csv\"\n",
    "\n",
    "with open(file,\"w\") as fdata:\n",
    "    fdata.write(\"base_score,{}\\n\".format(base_score))\n",
    "for i,col in enumerate(Xtrain.columns):\n",
    "    score = woeall[col] * (-B*lr.coef_[0][i])\n",
    "    score.name = \"Score\"\n",
    "    score.index.name = col\n",
    "    score.to_csv(file,header=True,mode=\"a\")"
   ]
  },
  {
   "cell_type": "code",
   "execution_count": null,
   "metadata": {},
   "outputs": [],
   "source": []
  }
 ],
 "metadata": {
  "kernelspec": {
   "display_name": "Python 3",
   "language": "python",
   "name": "python3"
  },
  "language_info": {
   "codemirror_mode": {
    "name": "ipython",
    "version": 3
   },
   "file_extension": ".py",
   "mimetype": "text/x-python",
   "name": "python",
   "nbconvert_exporter": "python",
   "pygments_lexer": "ipython3",
   "version": "3.7.0"
  }
 },
 "nbformat": 4,
 "nbformat_minor": 4
}
